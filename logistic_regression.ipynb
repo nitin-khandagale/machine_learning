{
  "nbformat": 4,
  "nbformat_minor": 0,
  "metadata": {
    "colab": {
      "name": "logistic_regression.ipynb",
      "provenance": [],
      "authorship_tag": "ABX9TyOraiDZ8a9veBlkRxTwI0XP",
      "include_colab_link": true
    },
    "kernelspec": {
      "name": "python3",
      "display_name": "Python 3"
    }
  },
  "cells": [
    {
      "cell_type": "markdown",
      "metadata": {
        "id": "view-in-github",
        "colab_type": "text"
      },
      "source": [
        "<a href=\"https://colab.research.google.com/github/nitin-khandagale/machine_learning_practice/blob/master/logistic_regression.ipynb\" target=\"_parent\"><img src=\"https://colab.research.google.com/assets/colab-badge.svg\" alt=\"Open In Colab\"/></a>"
      ]
    },
    {
      "cell_type": "code",
      "metadata": {
        "id": "2a24dOrtWJG8",
        "colab_type": "code",
        "colab": {}
      },
      "source": [
        "import pandas as pd\n",
        "import numpy as np\n",
        "import matplotlib.pyplot as plt\n",
        "import scipy.special\n",
        "import sys"
      ],
      "execution_count": null,
      "outputs": []
    },
    {
      "cell_type": "code",
      "metadata": {
        "id": "GLqwaHz9XHkT",
        "colab_type": "code",
        "colab": {}
      },
      "source": [
        "df = pd.read_csv('ex2data1.txt', header=None)"
      ],
      "execution_count": null,
      "outputs": []
    },
    {
      "cell_type": "code",
      "metadata": {
        "id": "6bJXuqS_XMeP",
        "colab_type": "code",
        "colab": {
          "base_uri": "https://localhost:8080/",
          "height": 195
        },
        "outputId": "3851f5fe-6b2f-412f-8313-81471cd5ea0b"
      },
      "source": [
        "df.head()"
      ],
      "execution_count": null,
      "outputs": [
        {
          "output_type": "execute_result",
          "data": {
            "text/html": [
              "<div>\n",
              "<style scoped>\n",
              "    .dataframe tbody tr th:only-of-type {\n",
              "        vertical-align: middle;\n",
              "    }\n",
              "\n",
              "    .dataframe tbody tr th {\n",
              "        vertical-align: top;\n",
              "    }\n",
              "\n",
              "    .dataframe thead th {\n",
              "        text-align: right;\n",
              "    }\n",
              "</style>\n",
              "<table border=\"1\" class=\"dataframe\">\n",
              "  <thead>\n",
              "    <tr style=\"text-align: right;\">\n",
              "      <th></th>\n",
              "      <th>0</th>\n",
              "      <th>1</th>\n",
              "      <th>2</th>\n",
              "    </tr>\n",
              "  </thead>\n",
              "  <tbody>\n",
              "    <tr>\n",
              "      <th>0</th>\n",
              "      <td>34.623660</td>\n",
              "      <td>78.024693</td>\n",
              "      <td>0</td>\n",
              "    </tr>\n",
              "    <tr>\n",
              "      <th>1</th>\n",
              "      <td>30.286711</td>\n",
              "      <td>43.894998</td>\n",
              "      <td>0</td>\n",
              "    </tr>\n",
              "    <tr>\n",
              "      <th>2</th>\n",
              "      <td>35.847409</td>\n",
              "      <td>72.902198</td>\n",
              "      <td>0</td>\n",
              "    </tr>\n",
              "    <tr>\n",
              "      <th>3</th>\n",
              "      <td>60.182599</td>\n",
              "      <td>86.308552</td>\n",
              "      <td>1</td>\n",
              "    </tr>\n",
              "    <tr>\n",
              "      <th>4</th>\n",
              "      <td>79.032736</td>\n",
              "      <td>75.344376</td>\n",
              "      <td>1</td>\n",
              "    </tr>\n",
              "  </tbody>\n",
              "</table>\n",
              "</div>"
            ],
            "text/plain": [
              "           0          1  2\n",
              "0  34.623660  78.024693  0\n",
              "1  30.286711  43.894998  0\n",
              "2  35.847409  72.902198  0\n",
              "3  60.182599  86.308552  1\n",
              "4  79.032736  75.344376  1"
            ]
          },
          "metadata": {
            "tags": []
          },
          "execution_count": 44
        }
      ]
    },
    {
      "cell_type": "code",
      "metadata": {
        "id": "RawT1jkOXNoI",
        "colab_type": "code",
        "colab": {
          "base_uri": "https://localhost:8080/",
          "height": 445
        },
        "outputId": "ae0eff1c-1be5-4784-ee64-317e0cfc28ed"
      },
      "source": [
        "plt.figure(figsize=(12,7))\n",
        "plt.scatter(df[0], df[1], c=df[2])"
      ],
      "execution_count": null,
      "outputs": [
        {
          "output_type": "execute_result",
          "data": {
            "text/plain": [
              "<matplotlib.collections.PathCollection at 0x7f8014710eb8>"
            ]
          },
          "metadata": {
            "tags": []
          },
          "execution_count": 45
        },
        {
          "output_type": "display_data",
          "data": {
            "image/png": "[encoded data removed]",
            "text/plain": [
              "<Figure size 864x504 with 1 Axes>"
            ]
          },
          "metadata": {
            "tags": [],
            "needs_background": "light"
          }
        }
      ]
    },
    {
      "cell_type": "code",
      "metadata": {
        "id": "IJHdqx9RXop8",
        "colab_type": "code",
        "colab": {}
      },
      "source": [
        "x = df.drop(2, axis='columns')\n",
        "y = df[2]"
      ],
      "execution_count": null,
      "outputs": []
    },
    {
      "cell_type": "code",
      "metadata": {
        "id": "w3pqmKbOckkS",
        "colab_type": "code",
        "colab": {}
      },
      "source": [
        "def sigmoid(z):\n",
        "  s = 1 / (1 + np.exp(-z))\n",
        "  return s"
      ],
      "execution_count": null,
      "outputs": []
    },
    {
      "cell_type": "code",
      "metadata": {
        "id": "6fO-ja0yr8fi",
        "colab_type": "code",
        "colab": {
          "base_uri": "https://localhost:8080/",
          "height": 34
        },
        "outputId": "57f6e6d8-9296-42dd-f08b-709b01176575"
      },
      "source": [
        "m = y.shape[0]\n",
        "m"
      ],
      "execution_count": null,
      "outputs": [
        {
          "output_type": "execute_result",
          "data": {
            "text/plain": [
              "100"
            ]
          },
          "metadata": {
            "tags": []
          },
          "execution_count": 71
        }
      ]
    },
    {
      "cell_type": "code",
      "metadata": {
        "id": "mIgTpURqrpP0",
        "colab_type": "code",
        "colab": {}
      },
      "source": [
        "oness = np.ones((m, 1))"
      ],
      "execution_count": null,
      "outputs": []
    },
    {
      "cell_type": "code",
      "metadata": {
        "id": "PCuGsuV6rpMZ",
        "colab_type": "code",
        "colab": {
          "base_uri": "https://localhost:8080/",
          "height": 1000
        },
        "outputId": "e98e21cf-e5a5-4b2d-b4b3-945c459ec23b"
      },
      "source": [
        "X = np.concatenate([np.ones((m, 1)), x], axis=1)\n",
        "X"
      ],
      "execution_count": null,
      "outputs": [
        {
          "output_type": "execute_result",
          "data": {
            "text/plain": [
              "array([[ 1.        , 34.62365962, 78.02469282],\n",
              "       [ 1.        , 30.28671077, 43.89499752],\n",
              "       [ 1.        , 35.84740877, 72.90219803],\n",
              "       [ 1.        , 60.18259939, 86.3085521 ],\n",
              "       [ 1.        , 79.03273605, 75.34437644],\n",
              "       [ 1.        , 45.08327748, 56.31637178],\n",
              "       [ 1.        , 61.10666454, 96.51142588],\n",
              "       [ 1.        , 75.02474557, 46.55401354],\n",
              "       [ 1.        , 76.0987867 , 87.42056972],\n",
              "       [ 1.        , 84.43281996, 43.53339331],\n",
              "       [ 1.        , 95.86155507, 38.22527806],\n",
              "       [ 1.        , 75.01365839, 30.60326323],\n",
              "       [ 1.        , 82.30705337, 76.4819633 ],\n",
              "       [ 1.        , 69.36458876, 97.71869196],\n",
              "       [ 1.        , 39.53833914, 76.03681085],\n",
              "       [ 1.        , 53.97105215, 89.20735014],\n",
              "       [ 1.        , 69.07014406, 52.74046973],\n",
              "       [ 1.        , 67.94685548, 46.67857411],\n",
              "       [ 1.        , 70.66150955, 92.92713789],\n",
              "       [ 1.        , 76.97878373, 47.57596365],\n",
              "       [ 1.        , 67.37202755, 42.83843832],\n",
              "       [ 1.        , 89.67677575, 65.79936593],\n",
              "       [ 1.        , 50.53478829, 48.85581153],\n",
              "       [ 1.        , 34.21206098, 44.2095286 ],\n",
              "       [ 1.        , 77.92409145, 68.97235999],\n",
              "       [ 1.        , 62.27101367, 69.95445795],\n",
              "       [ 1.        , 80.19018075, 44.82162893],\n",
              "       [ 1.        , 93.1143888 , 38.80067034],\n",
              "       [ 1.        , 61.83020602, 50.25610789],\n",
              "       [ 1.        , 38.7858038 , 64.99568096],\n",
              "       [ 1.        , 61.37928945, 72.80788731],\n",
              "       [ 1.        , 85.40451939, 57.05198398],\n",
              "       [ 1.        , 52.10797973, 63.12762377],\n",
              "       [ 1.        , 52.04540477, 69.43286012],\n",
              "       [ 1.        , 40.23689374, 71.16774802],\n",
              "       [ 1.        , 54.63510555, 52.21388588],\n",
              "       [ 1.        , 33.91550011, 98.86943574],\n",
              "       [ 1.        , 64.17698887, 80.90806059],\n",
              "       [ 1.        , 74.78925296, 41.57341523],\n",
              "       [ 1.        , 34.18364003, 75.23772034],\n",
              "       [ 1.        , 83.90239366, 56.30804622],\n",
              "       [ 1.        , 51.54772027, 46.85629026],\n",
              "       [ 1.        , 94.44336777, 65.56892161],\n",
              "       [ 1.        , 82.36875376, 40.61825516],\n",
              "       [ 1.        , 51.04775177, 45.82270146],\n",
              "       [ 1.        , 62.22267576, 52.06099195],\n",
              "       [ 1.        , 77.19303493, 70.4582    ],\n",
              "       [ 1.        , 97.77159928, 86.72782233],\n",
              "       [ 1.        , 62.0730638 , 96.76882412],\n",
              "       [ 1.        , 91.5649745 , 88.69629255],\n",
              "       [ 1.        , 79.94481794, 74.16311935],\n",
              "       [ 1.        , 99.27252693, 60.999031  ],\n",
              "       [ 1.        , 90.54671411, 43.39060181],\n",
              "       [ 1.        , 34.52451385, 60.39634246],\n",
              "       [ 1.        , 50.28649612, 49.80453881],\n",
              "       [ 1.        , 49.58667722, 59.80895099],\n",
              "       [ 1.        , 97.64563396, 68.86157272],\n",
              "       [ 1.        , 32.57720017, 95.59854761],\n",
              "       [ 1.        , 74.24869137, 69.82457123],\n",
              "       [ 1.        , 71.79646206, 78.45356225],\n",
              "       [ 1.        , 75.39561147, 85.75993667],\n",
              "       [ 1.        , 35.28611282, 47.02051395],\n",
              "       [ 1.        , 56.2538175 , 39.26147251],\n",
              "       [ 1.        , 30.05882245, 49.59297387],\n",
              "       [ 1.        , 44.66826172, 66.45008615],\n",
              "       [ 1.        , 66.56089447, 41.09209808],\n",
              "       [ 1.        , 40.45755098, 97.53518549],\n",
              "       [ 1.        , 49.07256322, 51.88321182],\n",
              "       [ 1.        , 80.27957401, 92.11606081],\n",
              "       [ 1.        , 66.74671857, 60.99139403],\n",
              "       [ 1.        , 32.72283304, 43.30717306],\n",
              "       [ 1.        , 64.03932042, 78.03168802],\n",
              "       [ 1.        , 72.34649423, 96.22759297],\n",
              "       [ 1.        , 60.45788574, 73.0949981 ],\n",
              "       [ 1.        , 58.84095622, 75.85844831],\n",
              "       [ 1.        , 99.8278578 , 72.36925193],\n",
              "       [ 1.        , 47.26426911, 88.475865  ],\n",
              "       [ 1.        , 50.4581598 , 75.80985953],\n",
              "       [ 1.        , 60.45555629, 42.50840944],\n",
              "       [ 1.        , 82.22666158, 42.71987854],\n",
              "       [ 1.        , 88.91389642, 69.8037889 ],\n",
              "       [ 1.        , 94.83450672, 45.6943068 ],\n",
              "       [ 1.        , 67.31925747, 66.58935318],\n",
              "       [ 1.        , 57.23870632, 59.51428198],\n",
              "       [ 1.        , 80.366756  , 90.9601479 ],\n",
              "       [ 1.        , 68.46852179, 85.5943071 ],\n",
              "       [ 1.        , 42.07545454, 78.844786  ],\n",
              "       [ 1.        , 75.47770201, 90.424539  ],\n",
              "       [ 1.        , 78.63542435, 96.64742717],\n",
              "       [ 1.        , 52.34800399, 60.76950526],\n",
              "       [ 1.        , 94.09433113, 77.15910509],\n",
              "       [ 1.        , 90.44855097, 87.50879176],\n",
              "       [ 1.        , 55.48216114, 35.57070347],\n",
              "       [ 1.        , 74.49269242, 84.84513685],\n",
              "       [ 1.        , 89.84580671, 45.35828361],\n",
              "       [ 1.        , 83.48916274, 48.3802858 ],\n",
              "       [ 1.        , 42.26170081, 87.10385094],\n",
              "       [ 1.        , 99.31500881, 68.77540947],\n",
              "       [ 1.        , 55.34001756, 64.93193801],\n",
              "       [ 1.        , 74.775893  , 89.5298129 ]])"
            ]
          },
          "metadata": {
            "tags": []
          },
          "execution_count": 75
        }
      ]
    },
    {
      "cell_type": "code",
      "metadata": {
        "id": "qkAVlGBtfotM",
        "colab_type": "code",
        "colab": {}
      },
      "source": [
        "def cost_function(x,y,theta):\n",
        "  cf = 0 \n",
        "  h = sigmoid(np.dot(x,theta))\n",
        "\n",
        "  cf = (1/m) * np.sum(np.dot(-y, np.log(h)) - np.dot((1-y), np.log(1-h)))\n",
        "\n",
        "  return cf"
      ],
      "execution_count": null,
      "outputs": []
    },
    {
      "cell_type": "code",
      "metadata": {
        "id": "8AgAFhocgrp3",
        "colab_type": "code",
        "colab": {}
      },
      "source": [
        "def gradient_descent(x,y,theta):\n",
        "  h = sigmoid(np.dot(x, theta.T))\n",
        "  \n",
        "  gd = (1/m) * np.dot((h-y),x)\n",
        "\n",
        "  return gd"
      ],
      "execution_count": null,
      "outputs": []
    },
    {
      "cell_type": "code",
      "metadata": {
        "id": "iqQXWTyytyLp",
        "colab_type": "code",
        "colab": {
          "base_uri": "https://localhost:8080/",
          "height": 34
        },
        "outputId": "0592aa71-0e45-434a-9ea7-7f049592b2d1"
      },
      "source": [
        "test_theta = np.zeros(n)\n",
        "test_theta"
      ],
      "execution_count": null,
      "outputs": [
        {
          "output_type": "execute_result",
          "data": {
            "text/plain": [
              "array([0., 0., 0.])"
            ]
          },
          "metadata": {
            "tags": []
          },
          "execution_count": 81
        }
      ]
    },
    {
      "cell_type": "code",
      "metadata": {
        "id": "byqw5WNEuFuT",
        "colab_type": "code",
        "colab": {}
      },
      "source": [
        "intial_cost = cost_function(X,y,test_theta)"
      ],
      "execution_count": null,
      "outputs": []
    },
    {
      "cell_type": "code",
      "metadata": {
        "id": "JucuL5AlvKRp",
        "colab_type": "code",
        "colab": {
          "base_uri": "https://localhost:8080/",
          "height": 34
        },
        "outputId": "6dc4f0fc-cff0-4fa8-8456-6671620fa07f"
      },
      "source": [
        "intial_cost"
      ],
      "execution_count": null,
      "outputs": [
        {
          "output_type": "execute_result",
          "data": {
            "text/plain": [
              "0.6931471805599453"
            ]
          },
          "metadata": {
            "tags": []
          },
          "execution_count": 84
        }
      ]
    },
    {
      "cell_type": "code",
      "metadata": {
        "id": "szIYrLHFxAZP",
        "colab_type": "code",
        "colab": {}
      },
      "source": [
        "new_theta = gradient_descent(X,y,test_theta)"
      ],
      "execution_count": null,
      "outputs": []
    },
    {
      "cell_type": "code",
      "metadata": {
        "id": "EdWi_N4CxQnH",
        "colab_type": "code",
        "colab": {
          "base_uri": "https://localhost:8080/",
          "height": 34
        },
        "outputId": "2256c48c-1df2-4cef-838f-506b31ce3e00"
      },
      "source": [
        "new_theta"
      ],
      "execution_count": null,
      "outputs": [
        {
          "output_type": "execute_result",
          "data": {
            "text/plain": [
              "array([ -0.1       , -12.00921659, -11.26284221])"
            ]
          },
          "metadata": {
            "tags": []
          },
          "execution_count": 88
        }
      ]
    },
    {
      "cell_type": "code",
      "metadata": {
        "id": "hPkTzRw4xSR0",
        "colab_type": "code",
        "colab": {}
      },
      "source": [
        "cost = cost_function(X,y,new_theta)"
      ],
      "execution_count": null,
      "outputs": []
    },
    {
      "cell_type": "code",
      "metadata": {
        "id": "erxVPOODxXiC",
        "colab_type": "code",
        "colab": {
          "base_uri": "https://localhost:8080/",
          "height": 34
        },
        "outputId": "91c60529-17e9-4699-9ed8-f06c503d3651"
      },
      "source": [
        "cost"
      ],
      "execution_count": null,
      "outputs": [
        {
          "output_type": "execute_result",
          "data": {
            "text/plain": [
              "0.2141271808199441"
            ]
          },
          "metadata": {
            "tags": []
          },
          "execution_count": 95
        }
      ]
    }
  ]
}