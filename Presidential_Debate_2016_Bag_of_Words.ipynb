{
  "nbformat": 4,
  "nbformat_minor": 0,
  "metadata": {
    "colab": {
      "name": "Presidential Debate 2016 : Bag of Words",
      "provenance": [],
      "collapsed_sections": [],
      "authorship_tag": "ABX9TyNNKli8M5CuDaAxfpRPkBR6",
      "include_colab_link": true
    },
    "kernelspec": {
      "name": "python3",
      "display_name": "Python 3"
    }
  },
  "cells": [
    {
      "cell_type": "markdown",
      "metadata": {
        "id": "view-in-github",
        "colab_type": "text"
      },
      "source": [
        "<a href=\"https://colab.research.google.com/github/nitin-khandagale/machine_learning_practice/blob/master/Presidential_Debate_2016_Bag_of_Words.ipynb\" target=\"_parent\"><img src=\"https://colab.research.google.com/assets/colab-badge.svg\" alt=\"Open In Colab\"/></a>"
      ]
    },
    {
      "cell_type": "code",
      "metadata": {
        "id": "KakkCSZqoQtJ",
        "colab_type": "code",
        "colab": {}
      },
      "source": [
        "import requests\n",
        "from bs4 import BeautifulSoup\n",
        "import re"
      ],
      "execution_count": 23,
      "outputs": []
    },
    {
      "cell_type": "code",
      "metadata": {
        "id": "nLwj1tlupgf1",
        "colab_type": "code",
        "colab": {}
      },
      "source": [
        "pagination = []\n",
        "\n",
        "for page in range(1,4):\n",
        "  link = \"https://www.christianpost.com/news/trump-vs-clinton-in-third-presidential-debate-2016-full-transcript.html?page={}\".format(page)\n",
        "  pagination.append(link)\n"
      ],
      "execution_count": 24,
      "outputs": []
    },
    {
      "cell_type": "code",
      "metadata": {
        "id": "onIKQtEmq-IX",
        "colab_type": "code",
        "colab": {
          "base_uri": "https://localhost:8080/",
          "height": 67
        },
        "outputId": "6e5a1e12-f5a5-4b38-f55e-09d2103efbbb"
      },
      "source": [
        "pagination"
      ],
      "execution_count": 25,
      "outputs": [
        {
          "output_type": "execute_result",
          "data": {
            "text/plain": [
              "['https://www.christianpost.com/news/trump-vs-clinton-in-third-presidential-debate-2016-full-transcript.html?page=1',\n",
              " 'https://www.christianpost.com/news/trump-vs-clinton-in-third-presidential-debate-2016-full-transcript.html?page=2',\n",
              " 'https://www.christianpost.com/news/trump-vs-clinton-in-third-presidential-debate-2016-full-transcript.html?page=3']"
            ]
          },
          "metadata": {
            "tags": []
          },
          "execution_count": 25
        }
      ]
    },
    {
      "cell_type": "code",
      "metadata": {
        "id": "MWH34rvfq-FX",
        "colab_type": "code",
        "colab": {
          "base_uri": "https://localhost:8080/",
          "height": 138
        },
        "outputId": "058f9e55-654b-4123-8385-1370eed631b8"
      },
      "source": [
        "paragraphs = []\n",
        "p_tags = []\n",
        "\n",
        "for page in pagination:\n",
        "  ro = requests.get(page)\n",
        "  soup = BeautifulSoup(ro.content, 'html5')\n",
        "  ps = soup.find_all('p')\n",
        "  print(\"=============================================================================================================================================================\")\n",
        "  print(ps)\n",
        "  p_tags.append(ps)\n"
      ],
      "execution_count": 26,
      "outputs": [
        {
          "output_type": "stream",
          "text": [
            "=============================================================================================================================================================\n",
            "[<p class=\"visually-hidden\">The Christian Post</p>, <p class=\"enable-js\"> To enjoy our website, you'll need to enable <b>JavaScript</b> in your web browser. Please <a href=\"http://enable-javascript.com/\" target=\"_blank\"><b>click here</b></a> to learn how. </p>, <p>Donald Trump and Hillary Clinton had their third and final debate on October 19 at the University of Nevada, Las Vegas. The six topics they discussed during the 90 minute debate included: the economy, immigration, national debt and entitlements, the Supreme Court, foreign problems and \"fitness to be president.\"</p>, <p>Here is the transcript of the third U.S. presidential debate between the 2016 Republican Presidential Nominee Donald Trump and Democratic Presidential Nominee Hillary Clinton held live in Las Vegas, Nevada. The debate was moderated by Chris Wallace, host of Fox News Sunday.</p>, <p><strong>WALLACE:</strong> Good evening from the Thomas and Mack Center at the University of Nevada, Las Vegas. I'm Chris Wallace of Fox News, and I welcome you to the third and final of the 2016 presidential debates between Secretary of State Hillary Clinton and Donald J. Trump.</p>, <p><strong>WALLACE:</strong> This debate is sponsored by the Commission on Presidential Debates. The commission has designed the format:Six roughly 15­ minute segments with two­minute answers to the first question, then open discussion for the rest of each segment. Both campaigns have agreed to those rules. For the record, I decided the topics and the questions in each topic. None of those questions has been shared with the commission or the two candidates. The audience here in the hall has promised to remain silent. No cheers, boos, or other<br/> interruptions so we and you can focus on what the candidates have to say.</p>, <p><strong> WALLACE:</strong> No noise, except right now, as we welcome the Democratic nominee for president, Secretary Clinton, and the Republican nominee for president, Mr. Trump. (APPLAUSE) Secretary Clinton, Mr. Trump, welcome. Let's get right to it. The first topic is the Supreme Court. You both talked briefly about the court in the last debate, but I want to drill down on this, because the next president will almost certainly have at least one appointment and likely or possibly two or three appointments.</p>, <p><strong>WALLACE:</strong> Which means that you will, in effect, determine the balance of the court for what could be the next quarter century. First of all, where do you want to see the court take the country? And secondly, what's your view on how the Constitution should be interpreted? Do the founders' words mean what they say or is it a living document to be applied flexibly according to changing circumstances? In this segment, Secretary Clinton, you go first. You have two minutes.</p>, <p><strong>CLINTON:</strong> Thank you very much, Chris. And thanks to UNLV for hosting us. You know, Ithink when we talk about the Supreme Court, it really raises the central issue in this election, namely, what kind of country are we going to be? What kind of opportunities will we provide for our citizens? What kind of rights will Americans<br/> have? And Ifeel strongly that the Supreme Court needs to stand on the side of the American people, not on the side of the powerful corporations and the wealthy. For me, that means that we need a Supreme Court that will stand up on behalf of women's rights, on behalf of the rights of the LGBT community, that will stand up and say no to Citizens United, a decision that has undermined the election system in our country because of the way it permits dark, unaccountable money to come into our electoral system. I have major disagreements with my opponent about these issues and others that will be before the Supreme Court. But I feel that at this point in our country's history, it is important that we not reverse marriage equality, that we not reverse Roe v. Wade, that we stand up against Citizens United, we stand up for the rights of people in the workplace, that we stand up and<br/> basically say: The Supreme Court should represent all of us. That's how I see the court, and the kind of people that I would be looking to nominate to the court would be in the great tradition of standing up to the powerful, standing up on behalf of our rights as Americans. And Ilook forward to having that opportunity. I would hope that the Senate would do its job and confirm the nominee that President Obama has sent to them. That's the way the Constitution fundamentally should operate. The president nominates, and then the Senate advises and consents, or not, but they go forward with the process.</p>, <p><strong>WALLACE:</strong> Secretary Clinton, thank you.</p>, <p><strong> WALLACE:</strong> Mr. Trump, same question. Where do you want to see the court take the country? And how do you believe the Constitution should be interpreted?</p>, <p><strong>TRUMP:</strong> Well, first of all, it's great to be with you, and thank you, everybody. The Supreme Court:It's what it's all about. Our country is so, so ­­ it's just so imperative that we have the right justices. Something happened recently where Justice Ginsburg made some very, very inappropriate statements toward me and toward a tremendous number of people, many, many millions of people that I represent. And she was forced to apologize. And apologize she did. But these were statements that should never, ever have been made. We need a Supreme Court that in my opinion is going to uphold the Second Amendment, and all amendments, but the Second<br/> Amendment, which is under absolute siege. I believe if my opponent should win this race, which Itruly don't think will happen, we will have a Second Amendment which will be a very, very small replica of what it is right now. But I feel that it's absolutely important that we uphold, because of the fact that it is under such trauma.<br/> Ifeel that the justices that I am going to appoint ­­ and I've named 20 of them ­­ the justices that I'm going to appoint will be pro­life. They will have a conservative bent. They will be protecting the Second Amendment. They are great scholars in all cases, and they're people of tremendous respect. They will interpret the Constitution the way the founders wanted it interpreted. And I believe that's very, very important. I don't think we should have justices appointed that decide what they want to hear. It's all about the Constitution of ­­ of ­­ and so important, the Constitution the way it was meant to be. And those are the people that I will appoint.</p>, <p><strong>WALLACE:</strong> Mr. Trump, thank you.</p>, <p><strong> WALLACE:</strong> We now have about 10 minutes for an open discussion. I want to focus on two issues that, in fact, by the justices that you name could end up changing the existing law of the land. First is one that you mentioned, Mr. Trump, and that is guns. Secretary Clinton, you said last year, let me quote, \"The Supreme Court is wrong on the Second Amendment.\" And now, in fact, in the 2008 Heller case, the court ruled that there is a constitutional right to bear arms, but a right that is reasonably limited. Those were the words of the Judge Antonin Scalia who wrote the decision. What's wrong with that?</p>, <p><strong>CLINTON:</strong> Well, first of all, I support the Second Amendment. Ilived in Arkansas for 18 wonderful years. I represented upstate New York. I understand and respect the tradition of gun ownership. It goes back to the founding of our country. But I also believe that there can be and must be reasonable regulation. Because I support the Second Amendment doesn't mean that I want people who shouldn't have guns to be able to threaten you, kill you or members of your family. And so when Ithink about what we need to do, we have 33,000 people a year who die from guns. Ithink we need comprehensive background checks, need to close the online loophole, close the gun show loophole. There's other matters that I think are sensible that are the kind of reforms that would make a difference that are not in any way conflicting with the Second Amendment. You mentioned the Heller decision. And what I was saying that you referenced, Chris, was that I disagreed with the way the<br/> court applied the Second Amendment in that case, because what the District of Columbia was trying to do was to protect toddlers from guns and so they wanted people with guns to safely store them. And the court didn't accept that reasonable regulation, but they've accepted many others. So I see no conflict between saving people's lives and defending the Second Amendment.</p>, <p class=\"visually-hidden\">The Christian Post</p>]\n",
            "=============================================================================================================================================================\n",
            "[<p class=\"visually-hidden\">The Christian Post</p>, <p class=\"enable-js\"> To enjoy our website, you'll need to enable <b>JavaScript</b> in your web browser. Please <a href=\"http://enable-javascript.com/\" target=\"_blank\"><b>click here</b></a> to learn how. </p>, <p><strong>WALLACE:</strong> Let me bring Mr. Trump in here. The bipartisan Open Debate Coalition got millions of votes on questions to ask here, and this was, in fact, one of the top questions that they got. How will you ensure the Second Amendment is protected? You just heard Secretary Clinton's answer. Does she persuade you that, while you may disagree on regulation, that, in fact, she supports a Second Amendment right to bear arms?</p>, <p><strong>TRUMP:</strong> Well, the D.C. vs. Heller decision was very strongly ­­ and she was extremely angry about it. I watched. I mean, she was very, very angry when upheld. And Justice Scalia was so involved. And it was a well­crafted decision. But Hillary was extremely upset, extremely angry. And people that believe in the Second Amendment and believe in it very strongly were very upset with what she had to say.</p>, <p><strong> WALLACE:</strong> Well, let me bring in Secretary Clinton. Were you extremely upset?</p>, <p><strong>CLINTON:</strong> Well, I was upset because, unfortunately, dozens of toddlers injure themselves, even kill people with guns, because, unfortunately, not everyone who has loaded guns in their homes takes appropriate precautions.<br/> But there's no doubt that I respect the Second Amendment, that I also believe there's an individual right to bear arms. That is not in conflict with sensible, commonsense regulation. And, you know, look, I understand that Donald's been strongly supported by the NRA. The gun lobby's on his side. They're running millions of dollars of ads against me. And I regret that, because what I would like to see is for people to come together and say: Of course we're going to protect and defend the Second Amendment. But we're going to do it in a way that tries to save some of these 33,000 lives that we lose every year.</p>, <p><strong>WALLACE:</strong> Let me bring Mr. Trump back into this, because, in fact, you oppose any limits on assault weapons, any limits on high­ capacity magazines. You support a national right to carry law. Why, sir?</p>, <p><strong>TRUMP:</strong> Well, let me just tell you before we go any further. In Chicago, which has the toughest gun laws in the United States, probably you could say by far, they have more gun violence than any other city. So we have the toughest laws, and you have tremendous gun violence. I am a very strong supporter of the Second Amendment. And I am ­­ I don't know if Hillary was saying it in a sarcastic manner, but I'm very proud to have the endorsement of the NRA. And it's the earliest endorsement they've ever given to anybody who ran for president. So I'm very honored by all of that. We are going to appoint justices ­­ this is the best way to help the Second Amendment. We are going to appoint justices that will feel very strongly about the Second Amendment, that will not do damage to the Second Amendment.</p>, <p><strong>WALLACE:</strong> Well, let's pick up on another issue which divides you and the justices that whoever ends up winning this election appoints could have a dramatic effect there, and that's the issue of abortion.</p>, <p><strong>TRUMP:</strong> Right.</p>, <p><strong>WALLACE:</strong> Mr. Trump, you're pro­life. But I want to ask you specifically: Do you want the court, including the justices that you will name, to overturn Roe v. Wade, which includes ­­ in fact, states ­­ a woman's right to abortion?</p>, <p><strong> TRUMP:</strong> Well, if that would happen, because I am pro­life, and I will be appointing pro­life judges, I would think that that will go back to the individual states.</p>, <p><strong> WALLACE:</strong> But I'm asking you specifically. Would you like to...</p>, <p><strong> TRUMP:</strong>If they overturned it, it will go back to the states.</p>, <p><strong> WALLACE:</strong> But what I'm asking you, sir, is, do you want to see the court overturn ­­ you just said you want to see the court<br/> protect the Second Amendment. Do you want to see the court overturn Roe v. Wade?</p>, <p><strong>TRUMP:</strong> Well, if we put another two or perhaps three justice on, that's really what's going to be ­­ that will happen. And that'll happen automatically, in my opinion, because I am putting pro­life justices on the court. I will say this:It will go back to the states, and the states will then make a determination.</p>, <p><strong>WALLACE:</strong> Secretary Clinton?</p>, <p><strong>CLINTON:</strong> Well, I strongly support Roe v. Wade, which guarantees a constitutional right to a woman to make the most intimate, most difficult, in many cases, decisions about her health care that one can imagine. And in this case, it's not only about Roe v. Wade. It is about what's happening right now in America. So many states are putting very stringent regulations on women that block them from exercising that choice to the extent that they are defunding Planned Parenthood, which, of course, provides all kinds of cancer screenings and other benefits for women in our country. Donald has said he's in favor of defunding Planned Parenthood. He even supported shutting the government down to defund Planned Parenthood. I will defend Planned Parenthood. I will defend Roe v. Wade, and I will defend women's rights to make their own health care decisions.</p>, <p><strong>WALLACE:</strong> Secretary Clinton...</p>, <p><strong>CLINTON:</strong> And we have come too far to have that turned back now. And, indeed, he said women should be punished, that there should be some form of punishment for women who obtain abortions. And I could just not be more opposed to that kind of thinking.</p>, <p><strong>WALLACE:</strong> I'm going to give you a chance to respond, but I want to ask you, Secretary Clinton, I want to explore how far you believe the right to abortion goes. You have been quoted as saying that the fetus has no constitutional rights. You also voted against a ban on late­term, partial­birth abortions. Why?</p>, <p><strong>CLINTON:</strong> Because Roe v. Wade very clearly sets out that there can be regulations on abortion so long as the life and the health of the mother are taken into account. And when I voted as a senator, I did not think that that was the case. The kinds of cases that fall at the end of pregnancy are often the most heartbreaking, painful decisions for families to make. I have met with women who toward the end of their pregnancy get the worst news one could get, that their health is in jeopardy if they continue to carry to term or that something terrible has happened or just been discovered about the pregnancy. I do not think the United States government should be stepping in and making those most personal of decisions. So you can regulate if you are doing so with the life and the health of the mother taken into account.</p>, <p><strong>WALLACE:</strong> Mr. Trump, your reaction? And particularly on this issue of late­term, partial­birth abortions.</p>, <p><strong>TRUMP:</strong> Well, Ithink it's terrible. If you go with what Hillary is saying, in the ninth month, you can take the baby and rip the baby out of the womb of the mother just prior to the birth of the baby. Now, you can say that that's OK and Hillary can say that that's OK. But it's not OK with me, because based on what she's saying, and based on where she's going, and where she's been, you can take the baby and rip the baby out of the womb in the ninth month on the final day. And that's not acceptable.</p>, <p><strong>CLINTON:</strong> Well, that is not what happens in these cases. And using that kind of scare rhetoric is just terribly unfortunate. You should meet with some of the women that I have met with, women I have known over the course of my life. This is one of the worst possible choices that any woman and her family has to make. And I do not believe the government should be making it. You know, I've had the great honor of traveling across the world on behalf of our country. I've been to countries where governments either forced women to have abortions, like they used to do in China, or forced women to bear children, like the used to do in Romania. And I can tell you: The government has no business in the decisions that women make with their families in accordance with their faith, with medical advice. And I will stand up for that right.</p>, <p class=\"visually-hidden\">The Christian Post</p>]\n",
            "=============================================================================================================================================================\n",
            "[<p class=\"visually-hidden\">The Christian Post</p>, <p class=\"enable-js\"> To enjoy our website, you'll need to enable <b>JavaScript</b> in your web browser. Please <a href=\"http://enable-javascript.com/\" target=\"_blank\"><b>click here</b></a> to learn how. </p>, <p><strong>WALLACE:</strong> All right. But just briefly, I want to move on to another segment...</p>, <p><strong>TRUMP:</strong> And, honestly, nobody has business doing what Ijust said, doing that, as late as one or two or three or four days prior to birth. Nobody has that.</p>, <p><strong>WALLACE:</strong> All right. Let's move on to the subject of immigration. And there is almost no issue that separates the two of you more than the issue of immigration. Actually, there are a lot of issues that separate the two of you. Mr. Trump, you want to build a wall. Secretary Clinton, you have offered no specific plan for how you want to secure our southern border. Mr. Trump, you are calling for major deportations. Secretary Clinton, you say that within your first 100 days as president you're going to offer a package that includes a pathway to citizenship. The question, really, is, why are you right and your opponent wrong? Mr. Trump, you go first in this segment. You have two minutes.</p>, <p><strong>TRUMP:</strong> Well, first of all, she wants to give amnesty, which is a disaster and very unfair to all of the people that are waiting on line for many, many years. We need strong borders. In the audience tonight, we have four mothers of ­­ I mean, these are unbelievable people that I've gotten to know over a period of years whose children have been killed, brutally killed by people that came into the country illegally. You have thousands of mothers and fathers and relatives all over the country. They're coming in illegally. Drugs are pouring in through the border. We have no country if we have no border. Hillary wants to give amnesty. She wants to have open borders. The border ­­ as you know, the Border Patrol agents, 16,500­ plus ICE last week, endorsed me. First time they've ever endorsed a candidate. It means their job is tougher. But they know what's going on. They know it better than anybody. They want strong borders. They feel we have to have strong borders. I was up in New Hampshire the other day. The biggest complaint they have ­­ it's with all of the problems going on in the world, many of the problems caused by Hillary Clinton and by Barack Obama. All of the problems ­­ the single biggest problem is heroin that pours across our southern border. It's just pouring and destroying their youth. It's poisoning the blood of their youth and plenty of other people. We have to have strong borders. We have to keep the drugs out of our country. We are ­­ right now, we're getting the drugs, they're getting the cash. We need strong borders. We need absolute ­­ we cannot give amnesty. Now, I want to build the wall. We need the wall. And the Border Patrol, ICE, they all want the wall. We stop the drugs. We shore up the border. One of my first acts will be to get all of the drug lords, all of the bad ones ­­ we have some bad, bad people in this country that have to go out. We're going to get them out; we're going to secure the border. And once the border is secured, at a later date, we'll make a determination as to the rest. But we have some bad hombres here, and we're going to get them out.</p>, <p><strong>WALLACE:</strong> Mr. Trump, thank you. Same question to you, Secretary Clinton. Basically, why are you right and Mr. Trump is<br/> wrong?</p>, <p><strong>CLINTON:</strong> Well, as he was talking, I was thinking about a young girl I met here in Las Vegas, Carla, who is very worried that her parents might be deported, because she was born in this country but they were not. They work hard, they do everything they can to give her a good life. And you're right. I don't want to rip families apart. I don't want to be sending parents away from children. I don't want to see the deportation force that Donald has talked about in action in our country. We have 11 million undocumented people. They have 4 million American citizen children, 15 million people. He said as recently as a few weeks ago in Phoenix that every undocumented person would be subject to deportation. Now, here's what that means. It means you would have to have a massive law enforcement presence, where law enforcement officers would be going school to school, home to home, business to business, rounding up people who are undocumented. And we would then have to put them on trains, on buses to get them out of our country. I think that is an idea that is not in keeping with who we are as a nation. Ithink it's an idea that would rip our country apart. I have been for border security for years. I voted for border security in the United States Senate. And my comprehensive immigration reform plan of course includes border security. But I want to put our resources where Ithink they're most needed: Getting rid of any violent person. Anybody who should be deported, we should deport them. When it comes to the wall that Donald talks about building, he went to Mexico, he had a meeting with the Mexican president. Didn't even raise it. He choked and then got into a Twitter war because the Mexican president said we're not paying for that wall. So Ithink we are both a nation of immigrants and we are a nation of laws and that we can act accordingly. And that's why I'm introducing comprehensive immigration reform within the first 100 days with the path to citizenship.</p>, <p><strong>WALLACE:</strong> Thank you, Secretary Clinton. I want to follow up...</p>, <p><strong>TRUMP:</strong>  Chris, I think it's...</p>, <p><strong>WALLACE:</strong> OK.</p>, <p><strong>TRUMP:</strong> I think I should respond to that. First of all, I had a very good meeting with the president of Mexico. Very nice man.<br/> We will be doing very much better with Mexico on trade deals. Believe me. The NAFTA deal signed by her husband is one of the worst deals ever made of any kind, signed by anybody. It's a disaster. Hillary Clinton wanted the wall. Hillary Clinton fought for the wall in 2006 or thereabouts. Now, she never gets anything done, so naturally the wall wasn't built. But Hillary Clinton wanted the wall.</p>, <p><strong>WALLACE:</strong> Well, let me ­­ wait, wait, sir, let me...</p>, <p><strong>TRUMP:</strong> We are a country of laws. We either have ­­ and by the way...</p>, <p><strong>WALLACE:</strong> Now, wait. I'd like to hear from...</p>, <p><strong>TRUMP:</strong> Well ­­ well, but she said one thing.</p>, <p><strong>WALLACE:</strong> I'd like to hear ­­ I'd like to hear from Secretary Clinton.</p>, <p><strong>CLINTON:</strong> I voted for border security, and there are...</p>, <p><strong>TRUMP:</strong> And the wall.</p>, <p><strong>CLINTON:</strong> There are some limited places where that was appropriate. There also is necessarily going to be new technology and how best to deploy that. But it is clear, when you look at what Donald has been proposing, he started his campaign bashing immigrants, calling Mexican immigrants rapists and criminals and drug dealers, that he has a very different view about what we should do to deal with immigrants. Now, what I am also arguing is that bringing undocumented immigrants out from the shadows, putting them into the formal economy will be good, because then employers can't exploit them and undercut Americans' wages. And Donald knows a lot about this. He used undocumented labor to build the Trump Tower. He underpaid undocumented workers, and when they complained, he basically said what a lot of employers do: \"You complain, I'll get you deported.\" I want to get everybody out of the shadows, get the economy working, and not let employers like Donald exploit undocumented workers, which hurts them, but also hurts American workers.</p>, <p><strong>WALLACE:</strong> Mr. Trump?</p>, <p><strong>TRUMP:</strong> President Obama has moved millions of people out. Nobody knows about it, nobody talks about it. But under Obama, millions of people have been moved out of this country. They've been deported. She doesn't want to say that, but that's what's happened, and that's what happened big league. As far as moving these people out and moving ­­ we either have a country or we don't. We're a country of laws. We either have a border or we don't. Now, you can come back in and you can become a citizen. But it's very unfair. We have millions of people that did it the right way. They're on line. They're waiting. We're going to speed up the process, big league, because it's very inefficient. But they're on line and they're waiting to become citizens. Very unfair that somebody runs across the border, becomes a citizen, under her plan, you have open borders. You would have a disaster on trade, and you will have a disaster with your open borders.</p>, <p><strong>WALLACE:</strong> I want to...</p>, <p><strong>TRUMP:</strong> But what she doesn't say is that President Obama has deported millions and millions of people just the way it is.</p>, <p><strong>WALLACE:</strong> Secretary Clinton, I want to...</p>, <p><strong>CLINTON:</strong> We will not have open borders. That is...</p>, <p><strong>WALLACE:</strong> Well, let me ­­ Secretary...</p>, <p><strong>CLINTON:</strong> That is a rank mischaracterization.</p>, <p><strong>WALLACE:</strong> Secretary Clinton...</p>, <p><strong>CLINTON:</strong> We will have secure borders, but we'll also have reform. And this used to be a bipartisan issue. Ronald Reagan was the last president...</p>, <p><strong>WALLACE:</strong> Secretary Clinton, excuse me. Secretary Clinton.</p>, <p><strong>CLINTON:</strong> ... to sign immigration reform, and George W. Bush supported it, as well.</p>, <p><strong>WALLACE:</strong> Secretary Clinton, I want to clear up your position on this issue, because in a speech you gave to a Brazilian bank, for which you were paid $225,000, we've learned from the WikiLeaks, that you said this, and I want to quote. \"My dream is a hemispheric common market with open trade and open borders.\" So that's the question...</p>, <p><strong>TRUMP:</strong> Thank you.</p>, <p><strong>WALLACE:</strong> That's the question. Please quiet, everybody. Is that your dream, open borders? CLINTON: Well, if you went on to read the rest of the sentence, I was talking about energy. You know, we trade more energy with our neighbors than we trade with the rest of the world combined. And I do want us to have an electric grid, an energy system that crosses borders. I think that would be a great benefit to us. But you are very clearly quoting from WikiLeaks. And what's really important about WikiLeaks is that the Russian government has engaged in espionage against Americans. They have hacked American websites, American accounts of private people, of institutions. Then they have given that information to WikiLeaks for the purpose of putting it on the Internet. This has come from the highest levels of the Russian government, clearly, from Putin himself, in an effort, as 17 of our intelligence agencies have confirmed, to influence our election.</p>, <p><strong>CLINTON:</strong> So I actually think the most important question of this evening, Chris, is, finally, will Donald Trump admit and condemn that the Russians are doing this and make it clear that he will not have the help of Putin in in this election, that he rejects Russian espionage against Americans, which he actually encouraged in the past? Those are the questions we need answered. We've never had anything like this happen in any of our elections before.</p>, <p><strong>WALLACE:</strong> Well?</p>, <p><strong>TRUMP:</strong> That was a great pivot off the fact that she wants open borders, OK? How did we get on to Putin?</p>, <p><strong>WALLACE:</strong> Hold on ­­ hold on, wait. Hold on, folks. Because we ­­ this is going to end up getting out of control. Let's try to keep it quiet so ­­ for the candidates and for the American people.</p>, <p><strong>TRUMP: So just to finish on the borders...</strong></p>, <p><strong>WALLACE:</strong> Yes?</p>, <p><strong>TRUMP:</strong> She wants open borders. People are going to pour into our country. People are going to come in from Syria. She wants 550 percent more people than Barack Obama, and he has thousands and thousands of people. They have no idea where they come from. And you see, we are going to stop radical Islamic terrorism in this country. She won't even mention the words, and neither will President Obama. So Ijust want to tell you, she wants open borders. Now we can talk about Putin. I don't know Putin. He said nice things about me. If we got along well, that would be good. If Russia and the United States got along well and went after ISIS, that would be good. He has no respect for her. He has no respect for our president. And I'll tell you what: We're in very serious trouble, because we have a country with tremendous numbers of nuclear warheads ­­ 1,800, by the way ­­ where they expanded and we didn't, 1,800 nuclear warheads. And she's playing chicken. Look, Putin...</p>, <p><strong>WALLACE:</strong> Wait, but...</p>, <p><strong>TRUMP:</strong> ... from everything I see, has no respect for this person.</p>, <p><strong>CLINTON:</strong> Well, that's because he'd rather have a puppet as president of the United States.</p>, <p><strong>TRUMP:</strong> No puppet. No puppet.</p>, <p><strong>CLINTON:</strong> And it's pretty clear...</p>, <p><strong>TRUMP:</strong> You're the puppet!</p>, <p><strong>CLINTON:</strong> It's pretty clear you won't admit...</p>, <p><strong>TRUMP:</strong> No, you're the puppet.</p>, <p><strong>CLINTON:</strong> ... that the Russians have engaged in cyberattacks against the United States of America, that you encouraged espionage against our people, that you are willing to spout the Putin line, sign up for his wish list, break up NATO, do whatever he wants to do, and that you continue to get help from him, because he has a very clear favorite in this race. So Ithink that this is such an unprecedented situation. We've never had a foreign government trying to interfere in our election. We have 17 ­­ 17 intelligence agencies, civilian and military, who have all concluded that these espionage attacks, these cyberattacks, come from the highest levels of the Kremlin and they are designed to influence our election. I find that deeply disturbing.</p>, <p><strong>WALLACE:</strong> Secretary Clinton...</p>, <p><strong>CLINTON:</strong> And I think it's time you take a stand...</p>, <p><strong>TRUMP:</strong> She has no idea whether it's Russia, China, or anybody else.</p>, <p><strong>CLINTON:</strong>I am not quoting myself.</p>, <p><strong>TRUMP:</strong> She has no idea.</p>, <p><strong>CLINTON:</strong> I am quoting 17...</p>, <p><strong>TRUMP:</strong> Hillary, you have no idea.</p>, <p><strong>CLINTON:</strong> ... 17 intelligence ­­ do you doubt 17 military and civilian...</p>, <p><strong>TRUMP:</strong> And our country has no idea.</p>, <p><strong>CLINTON:</strong> ... agencies.</p>, <p><strong>TRUMP:</strong> Yeah, I doubt it. I doubt it.</p>, <p><strong>CLINTON:</strong> Well, he'd rather believe Vladimir Putin than the military and civilian intelligence professionals who are sworn to protect us. I find that just absolutely...</p>, <p>(CROSSTALK)</p>, <p><strong>TRUMP:</strong> She doesn't like Putin because Putin has outsmarted her at every step of the way.</p>, <p><strong>WALLACE:</strong> Mr. Trump...</p>, <p><strong>TRUMP:</strong> Excuse me. Putin has outsmarted her in Syria.</p>, <p><strong>WALLACE:</strong> Mr. Trump...</p>, <p>(CROSSTALK)</p>, <p><strong>TRUMP:</strong> He's outsmarted her every step of the way.</p>, <p><strong>WALLACE:</strong>I do get to ask some questions.</p>, <p><strong>TRUMP:</strong> Yes, that's fine.</p>, <p><strong>WALLACE:</strong> And I would like to ask you this direct question. The top national security officials of this country do believe that Russia has been behind these hacks. Even if you don't know for sure whether they are, do you condemn any interference by Russia in the American election?</p>, <p><strong>TRUMP:</strong> By Russia or anybody else.</p>, <p><strong>WALLACE:</strong> You condemn their interference?</p>, <p><strong>TRUMP:</strong> Of course I condemn. Of course I­­ I don't know Putin. I have no idea.</p>, <p><strong>WALLACE:</strong> I'm not asking ­­ I'm asking do you condemn?</p>, <p><strong>TRUMP:</strong> I never met Putin. This is not my best friend. But if the United States got along with Russia, wouldn't be so bad. Let me tell you, Putin has outsmarted her and Obama at every single step of the way. Whether it's Syria, you name it. Missiles. Take a look at the \"start up\" that they signed. The Russians have said, according to many, many reports, I can't believe they allowed us to do this. They create warheads, and we can't. The Russians can't believe it. She has been outsmarted by Putin. And all you have to do is look at the Middle East. They've taken over. We've spent $6 trillion. They've taken over the Middle East. She has been outsmarted and outplayed worse than anybody I've ever seen in any government whatsoever.</p>, <p><strong>WALLACE:</strong> We're a long way away from immigration, but I'm going to let you finish this topic. You got about 45 seconds.</p>, <p><strong>TRUMP:</strong> And she always will be.</p>, <p><strong>CLINTON:</strong> I­­ Ifind it ironic that he's raising nuclear weapons. This is a person who has been very cavalier, even casual about the use of nuclear weapons. He's...</p>, <p><strong>TRUMP:</strong> Wrong.</p>, <p><strong>CLINTON:</strong> ... advocated more countries getting them, Japan, Korea, even Saudi Arabia. He said, well, if we have them, why don't we use them, which I think is terrifying. But here's the deal. The bottom line on nuclear weapons is that when the president gives the order, it must be followed. There's about four minutes between the order being given and the people responsible for launching nuclear weapons to do so. And that's why 10 people who have had that awesome responsibility have come out and, in an unprecedented way, said they would<br/> not trust Donald Trump with the nuclear codes or to have his finger on the nuclear button.</p>, <p><strong>TRUMP:</strong> I have 200 generals...</p>, <p><strong>WALLACE:</strong> Very quickly.</p>, <p><strong>TRUMP:</strong> ... and admirals, 21 endorsing me, 21 congressional Medal of Honor recipients. As far as Japan and other countries, we are being ripped off by everybody in the ­­ we're defending other countries. We are spending a fortune doing it. They have the bargain of the century. All I said is, we have to renegotiate these agreements, because our country cannot afford to defend Saudi Arabia, Japan, Germany, South Korea, and many other places. We cannot continue to afford ­­ she took that as saying nuclear weapons.</p>, <p><strong> WALLACE:</strong> OK.</p>, <p><strong>TRUMP:</strong> Look, she's been proven to be a liar on so many different ways. This is just another lie.</p>, <p><strong>CLINTON:</strong> Well, I'm just quoting you when you were asked...</p>, <p><strong>TRUMP:</strong> There's no quote. You're not going to find a quote from me.</p>, <p><strong>CLINTON:</strong> ... about a potential nuclear ­­ nuclear competition in Asia, you said, you know, go ahead, enjoy yourselves, folks.<br/> That kind...</p>, <p><strong>TRUMP:</strong> And defend yourselves.</p>, <p><strong>CLINTON:</strong> ... of language ­­ well...</p>, <p><strong>TRUMP:</strong> And defend yourselves. I didn't say nuclear. And defend yourself.</p>, <p><strong>CLINTON:</strong> The United States has kept the peace ­­ the United States has kept the peace through our alliances. Donald wants to tear up our alliances. Ithink it makes the world safer and, frankly, it makes the United States safer. I would work with our allies in Asia, in Europe, in the Middle East, and elsewhere. That's the only way we're going to be able to keep the peace.</p>, <p><strong>WALLACE:</strong> We're going to ­­ no, we are going to move on to the next topic, which is the economy. And I hope we handle that as well as we did immigration. You also have very different ideas about how to get the economy growing faster. Secretary Clinton, in your plan, government plays a big role. You see more government spending, more entitlements, more tax credits, more tax penalties. Mr. Trump, you want to get government out with lower taxes and less regulation.</p>, <p><strong>TRUMP:</strong> Yes.</p>, <p><strong>WALLACE:</strong> We're going to drill down into this a little bit more. But in this overview, please explain to me why you believe that your plan will create more jobs and growth for this country and your opponent's plan will not. In this round, you go first, Secretary Clinton.</p>, <p><strong>CLINTON:</strong> Well, Ithink when the middle class thrives, America thrives. And so my plan is based on growing the economy, giving middle­ class families many more opportunities. I want us to have the biggest jobs program since World War II, jobs in infrastructure and advanced manufacturing. Ithink we can compete with high­wage countries, and I believe we should. New jobs and clean energy, not only to fight climate change, which is a serious problem, but to create new opportunities and new businesses. I want us to do more to help small business. That's where two­ thirds of the new jobs are going to come from. I want us to raise the national minimum wage, because people who live in poverty should not ­­ who work full­time should not still be in poverty. And I sure do want to make sure women get equal pay for the work we do. I feel strongly that we have to have an education system that starts with preschool and goes through college. That's why I want more technical education in high schools and in community colleges, real apprenticeships to prepare young people for the jobs of the future. I want to make college debt­free and for families making less than $125,000, you will not get a tuition bill from a public college or university if the plan that I worked on with Bernie Sanders is enacted. And we're going to work hard to make sure that it is, because we are going to go where the money is. Most of the gains in the last years since the Great Recession have gone to the very top. So we are going to have the wealthy pay their fair share. We're going to have corporations make a contribution greater than they are now to our country. That is a plan that has been analyzed by independent experts which said that it could produce 10 million new jobs. By contrast, Donald's plan has been analyzed to conclude it might lose 3.5 million jobs. Why? Because his whole plan is to cut taxes, to give the biggest tax breaks ever to the wealthy and to corporations, adding $20 trillion to our debt, and causing the kind of dislocation that we have seen before, because it truly will be trickle­down economics on steroids. So the plan I have Ithink will actually produce greater opportunities. The plan he has will cost us jobs and possibly lead to another Great Recession.</p>, <p><strong>WALLACE:</strong> Secretary, thank you. Mr. Trump, why will your plan create more jobs and growth than Secretary Clinton's?</p>, <p><strong>TRUMP:</strong> Well, first of all, before I start on my plan, her plan is going to raise taxes and even double your taxes. Her tax plan is a disaster. And she can say all she wants about college tuition. And I'm a big proponent. We're going to do a lot of things for college tuition. But the rest of the public's going to be paying for it. We will have a massive, massive tax increase under Hillary Clinton's plan.</p>, <p><strong>TRUMP:</strong>  But I'd like to start off where we left, because when I said Japan and Germany, and I'm not to single them out, but South Korea, these are very rich, powerful countries. Saudi Arabia, nothing but money. We protect Saudi Arabia. Why aren't they paying? She immediately when she heard this, I questioned it, and I questioned NATO. Why aren't the NATO questioned why aren't they paying? Because they weren't paying. Since I did this this was a year ago all of a sudden, they're paying. And I've been given a lot a lot of credit for it. All of a sudden, they're starting to pay up. They have to pay up. We're protecting people, they have to pay up. And I'm a big fan of NATO. But they have to pay up. She comes out and said, we love our allies, we think our allies are great. Well, it's awfully hard to get them to pay up when you have somebody saying we think how great they are. We have to tell Japan in a very nice way, we have to tell Germany, all of these countries, South Korea, we have to say, you have to help us out. We have, during his regime, during President Obama's regime, we've doubled our national debt. We're up to $20 trillion. So my plan we're going to renegotiate trade deals. We're going to have a lot of free trade. We're going to have free trade, more free trade than we have right now. But we have horrible deals. Our jobs are being taken out by the deal that her husband signed, NAFTA, one of the worst deals ever. Our jobs are being sucked out of our economy. You look at all of the places that Ijust left, you go to Pennsylvania, you go to Ohio, you go to Florida, you go to any of them. You go upstate New York. Our jobs have fled to Mexico and other places. We're bringing our jobs back. I am going to renegotiate NAFTA. And if I can't make a great deal then we're going to terminate NAFTA and we're going to create new deals. We're going to have trade, but we're going we're going to terminate it, we're going to make a great trade deal. And if we can't, we're going to do it ¬¬ we're going to go a separate way, because it has been a disaster. We are going to cut taxes massively. We're going to cut business taxes massively. They're going to start hiring people. We're going to bring the $2.5 trillion...</p>, <p><strong>WALLACE:</strong>  Time, Mr. Trump.</p>, <p><strong>TRUMP:</strong> ... that's offshore back into the country. We are going to start the engine rolling again, because...</p>, <p><strong>WALLACE:</strong> Mr. Trump?</p>, <p><strong>TRUMP:</strong> ... right now, our country is dying at 1 percent GDP.</p>, <p><strong>CLINTON:</strong> Well, let me translate that, if I can, Chris, because...</p>, <p><strong>TRUMP:</strong> You can't.</p>, <p><strong>CLINTON:</strong> ... the fact is, he's going to advocate for the largest tax cuts we've ever seen, three times more than the tax cuts under the Bush administration. I have said repeatedly throughout this campaign:I will not raise taxes on anyone making $250,000 or less. I also will not add a penny to the debt. I have costed out what I'm going to do. He will, through his massive tax cuts, add $20 trillion to the debt. Well, he mentioned the debt. We know how to get control of the debt. When my husband was president, we went from a $300 billion deficit to a $200 billion surplus and we were actually on the path to eliminating the national debt. When President Obama came into office, he inherited the worst economic disaster since the Great Depression. He has cut the deficit by two thirds. So, yes, one of the ways you go after the debt, one of the ways you create jobs is by investing in people. So I do have investments, investments in new jobs, investments in education, skill training, and the opportunities for people to get ahead and stay ahead. That's the kind of approach that will work.</p>, <p><strong>WALLACE:</strong> Secretary...</p>, <p><strong>CLINTON:</strong> Cutting taxes on the wealthy, we've tried that. It has not worked the way that it has been promised.</p>, <p><strong>WALLACE:</strong> Secretary Clinton, I want to pursue your plan, because in many ways it is similar to the Obama stimulus plan in 2009, which has led to the slowest GDP growth since 1949.</p>, <p><strong>TRUMP:</strong> Correct.</p>, <p><strong>WALLACE:</strong> Thank you, sir. You told me in July when we spoke that the problem is that President Obama didn't get to do enough in what he was trying to do with his stimulus. So is your plan basically more even more of the Obama stimulus?</p>, <p><strong>CLINTON:</strong> Well, it's a combination, Chris. And let me say that when you inherit the level of economic catastrophe that President Obama inherited, it was a real touch and go situation. I was in the Senate before I became secretary of state. I've never seen people as physically distraught as the Bush administration team was because of what was happening to the economy. I personally believe that the steps that President Obama took saved the economy. He doesn't get the credit he deserves for taking some very hard positions. But it was a terrible recession. So now we've dug ourselves out of it, we're standing, but we're not yet running. So what I am proposing is that we invest from the middle out and the ground up, not the top down. That is not going to work. That's why what I have put forward doesn't add a penny to the debt, but it is the kind of approach that will enable more people to take those new jobs, higher paying jobs. We're beginning to see some increase in incomes, and we certainly have had a long string of increasing jobs. We've got to do more to get the whole economy moving, and that's what I believe I will be able to do.</p>, <p><strong>WALLACE:</strong> Mr. Trump, even conservative economists who have looked at your plan say that the numbers don't add up, that your idea, and you've talked about 25 million jobs created, 4 percent... TRUMP: Over a 10 year period.</p>, <p><strong>WALLACE:</strong> ... growth is unrealistic. And they say you talk a lot about growing the energy industry. They say with oil prices as low as they are right now, that's unrealistic, as well. Your response, sir?</p>, <p><strong>TRUMP:</strong> So Ijust left some high representatives of India. They're growing at 8 percent. China is growing at 7 percent. And that for them is a catastrophically low number. We are growing our last report came out and it's right around the 1 percent level. And I think it's going down. Last week, as you know, the end of last week, they came out with an anemic jobs report. A terrible jobs report. In fact I said, is that the last jobs report before the election? Because if it is, I should win easily, it was so bad. The report was so bad. Look, our country is stagnant. We've lost our jobs. We've lost our businesses. We're not making things anymore, relatively speaking. Our product is pouring in from China, pouring in from Vietnam, pouring in from all over the world. I've visited so many communities. This has been such an incredible education for me, Chris. I've gotten to know so many I've developed so many friends over the last year. And they cry when they see what's happened. I pass factories that were thriving 20, 25 years ago, and because of the bill that her husband signed and she blessed 100 percent, it is just horrible what's happened to these people in these communities. Now, she can say that her husband did well, but, boy, did they suffer as NAFTA kicked in, because it didn't really kick in very much, but it kicked in after they left. Boy, did they suffer. That was one of the worst things that's ever been signed by our country. Now she wants to sign Trans Pacific Partnership. And she wants it. She lied when she said she didn't call it the gold standard in one of the debates. She totally lied. She did call it the gold standard. And they actually fact checked, and they said I was right. I was so honored.</p>, <p><strong>WALLACE:</strong> I want you to give you a chance to briefly speak to that, and then I want to pivot to one sixth of the economy...</p>, <p><strong>TRUMP:</strong> And that will be as bad as NAFTA.</p>, <p><strong>WALLACE:</strong> ... which is Obamacare. But go ahead, briefly.</p>, <p><strong>CLINTON:</strong> Well, first, let me say, number one, when I saw the final agreement for TPP, I said I was against it. It didn't meet my test. I've had the same test. Does it create jobs, raise incomes, and further our national security? I'm against it now. I'll be against it after the election. I'll be against it when I'm president. There's only one of us on this stage who's actually shipped jobs to Mexico, because that's Donald. He's shipped jobs to 12 countries, including Mexico. But he mentioned China. And, you know, one of the biggest problems we have with China is the illegal dumping of steel and aluminum into our markets. I have fought against that as a senator. I've stood up against it as secretary of state. Donald has bought Chinese steel and aluminum. In fact, the Trump Hotel right here in Las Vegas was made with Chinese steel. So he goes around with crocodile tears about how terrible it is, but he has given jobs to Chinese steelworkers, not American steelworkers.</p>, <p><strong>WALLACE:</strong> Mr. Trump?</p>, <p><strong>CLINTON:</strong> That's the kind of approach that is just not going to work.</p>, <p><strong>TRUMP:</strong> Well, let me just say let me just say.</p>, <p><strong>CLINTON:</strong> We're going to pull the country together. We're going to have trade agreements that we enforce. That's why I'm going to have a trade prosecutor for the first time in history. And we're going to enforce those agreements, and we're going to look for businesses to help us by buying American products.</p>, <p><strong>WALLACE:</strong> Secretary Clinton? Go ahead, Mr. Trump.</p>, <p><strong>TRUMP:</strong> Let me ask a simple question. She's been doing this for 30 years. Why the hell didn't you do it over the last 15, 20 years?</p>, <p><strong>CLINTON:</strong> No, I voted.</p>, <p><strong>TRUMP:</strong> You were very much involved excuse me. My turn. You were very much involved in every aspect of this country. Very much. And you do have experience. I say the one thing you have over me is experience, but it's bad experience, because what you've done has turned out badly. For 30 years, you've been in a position to help, and if you say that I use steel or I use something else, I make it impossible for me to do that. I wouldn't mind. The problem is, you talk, but you don't get anything done, Hillary. You don't. Just like when you ran the State Department, $6 billion was missing. How do you miss $6 billion? You ran the State Department, $6 billion was either stolen. They don't know. It's gone, $6 billion. If you become president, this country is going to be in some mess. Believe me.</p>, <p><strong>CLINTON:</strong> Well, first of all, what he just said about the State Department is not only untrue, it's been debunked numerous times.</p>, <p><strong>CLINTON:</strong> But Ithink it's really an important issue. He raised the 30 years of experience, so let me just talk briefly about that. You know, back in the 1970s, I worked for the Children's Defense Fund. And I was taking on discrimination against African American kids in schools. He was getting sued by the Justice Department for racial discrimination in his apartment buildings. In the 1980s, I was working to reform the schools in Arkansas. He was borrowing $14 million from his father to start his businesses. In the 1990s, I went to Beijing and I said women's rights are human rights. He insulted a former Miss Universe, Alicia Machado, called her an eating machine.</p>, <p><strong>TRUMP:</strong> Give me a break.</p>, <p><strong>CLINTON:</strong> And on the day when I was in the Situation Room, monitoring the raid that brought Osama bin Laden to justice, he was hosting the \"Celebrity Apprentice.\" So I'm happy to compare my 30 years of experience, what I've done for this country, trying to help in every way I could, especially kids and families get ahead and stay ahead, with your 30 years, and I'll let the American people make that decision.</p>, <p><strong>TRUMP:</strong> Well, I think I did a much better job. I built a massive company, a great company, some of the greatest assets anywhere in the world, worth many, many billions of dollars. I started with a $1 million loan. I agree with that. It's a $1 million loan. But I built a phenomenal company. And if we could run our country the way I've run my company, we would have a country that you would be so proud of. You would even be proud of it. And frankly, when you look at her real record, take a look at Syria. Take a look at the migration. Take a look at Libya. Take a look at Iraq. She gave us ISIS, because her and Obama created this huge vacuum, and a small group came out of that huge vacuum because when we should never have been in Iraq, but once we were there, we should have never got out the way they wanted to get out. She gave us ISIS as sure as you are sitting there. And what happened is now ISIS is in 32 countries. And now I listen how she's going to get rid of ISIS. She's going to get rid of nobody.</p>, <p><strong>WALLACE:</strong> All right. We are going to get to foreign hot spots in a few moments, but the next segment is fitness to be president of the United States. Mr. Trump, at the last debate, you said your talk about grabbing women was just that, talk, and that you'd never actually done it. And since then, as we all know, nine women have come forward and have said that you either groped them or kissed them without their consent. Why would so many different women from so many different circumstances over so many different years, why would they all in this last couple of weeks make up you deny this why would they all make up these stories? Since this is a question for both of you, Secretary Clinton, Mr. Trump says what your husband did and that you defended was even worse. Mr. Trump, you go first.</p>, <p><strong>TRUMP:</strong> Well, first of all, those stories have been largely debunked. Those people I don't know those people. I have a feeling how they came. I believe it was her campaign that did it. Just like if you look at what came out today on the clips where I was wondering what happened with my rally in Chicago and other rallies where we had such violence? She's the one and Obama that caused the violence. They hired people they paid them $1,500, and they're on tape saying be violent, cause fights, do bad things. I would say the only way because those stories are all totally false, I have to say that. And I didn't even apologize to my wife, who's sitting right here, because I didn't do anything. I didn't know any of these I didn't see these women. These women the woman on the plane, the I think they want either fame or her campaign did it. And I think it's her campaign. Because what I saw what they did, which is a criminal act, by the way, where they're telling people to go out and start fist fights and start violence. And I'll tell you what, in particular in Chicago, people were hurt and people could have been killed in that riot. And that was now all on tape, started by her. I believe, Chris, that she got these people to step forward. If it wasn't, they get their 10 minutes of fame. But they were all totally it was all fiction. It was lies, and it was fiction.</p>, <p><strong>CLINTON:</strong> Well...</p>, <p><strong>WALLACE:</strong> Secretary Clinton?</p>, <p><strong>CLINTON:</strong> At the last debate, we heard Donald talking about what he did to women. And after that, a number of women have come forward saying that's exactly what he did to them. Now, what was his response? Well, he held a number of big rallies where he said that he could not possibly have done those things to those women because they were not attractive enough for them to be assaulted.</p>, <p><strong>TRUMP:</strong>I did not say that. I did not say that.</p>, <p><strong>CLINTON:</strong> In fact, he went on to say...</p>, <p><strong>WALLACE:</strong> Her two minutes sir, her two minutes. Her two minutes.</p>, <p><strong>TRUMP:</strong> I did not say that.</p>, <p><strong>WALLACE:</strong> It's her two minutes.</p>, <p><strong>CLINTON:</strong> He went on to say, \"Look at her. I don't think so.\" About another woman, he said, \"That wouldn't be my first choice.\" He attacked the woman reporter writing the story, called her \"disgusting,\" as he has called a number of women during this campaign. Donald thinks belittling women makes him bigger. He goes after their dignity, their self-worth, and I don't think there is a woman anywhere who doesn't know what that feels like. So we now know what Donald thinks and what he says and how he acts toward women. That's who Donald is. I think it's really up to all of us to demonstrate who we are and who our country is, and to stand up and be very clear about what we expect from our next president, how we want to bring our country together, where we don't want to have the kind of pitting of people one against the other, where instead we celebrate our diversity, we lift people up, and we make our country even greater. America is great, because America is good. And it really is up to all of us to make that true, now and in the future, and particularly for our children and our grandchildren.</p>, <p><strong>WALLACE:</strong> Mr. Trump...</p>, <p><strong>TRUMP:</strong> Nobody has more respect for women than I do. Nobody. (LAUGHTER) Nobody has more respect...</p>, <p><strong>WALLACE:</strong> Please, everybody.</p>, <p><strong>TRUMP:</strong> And frankly, those stories have been largely debunked. And I really want to just talk about something slightly different. She mentions this, which is all fiction, all fictionalized, probably or possibly started by her and her very sleazy campaign. But I will tell you what isn't fictionalized are her emails, where she destroyed 33,000 emails criminally, criminally, after getting a subpoena from the United States Congress. What happened to the FBI, I don't know. We have a great general, four star general, today you read it in all of the papers, going to potentially serve five years in jail for lying to the FBI. One lie. She's lied hundreds of times to the people, to Congress, and to the FBI. He's going to probably go to jail. This is a four star general. And she gets away with it, and she can run for the presidency of the United States? That's really what you should be talking about, not fiction, where somebody wants fame or where they come out of her crooked campaign.</p>, <p><strong>WALLACE:</strong> Secretary Clinton?</p>, <p><strong> CLINTON:</strong> Well, every time Donald is pushed on something which is obviously uncomfortable, like what these women are saying, he immediately goes to denying responsibility. And it's not just about women. He never apologizes or says he's sorry for anything. So we know what he has said and what he's done to women. But he also went after a disabled reporter, mocked and mimicked him on national television.</p>, <p><strong>TRUMP:</strong> Wrong.</p>, <p><strong>CLINTON:</strong> He went after Mr. and Mrs. Khan, the parents of a young man who died serving our country, a Gold Star family, because of their religion. He went after John McCain, a prisoner of war, said he prefers \"people who aren't captured.\" He went after a federal judge, born in Indiana, but who Donald said couldn't be trusted to try the fraud and racketeering case against Trump University because his parents were Mexican. So it's not one thing. This is a pattern, a pattern of divisiveness, of a very dark and in many ways dangerous vision of our country, where he incites violence, where he applauds people who are pushing and pulling and punching at his rallies. That is not who America is. And I hope that as we move in the last weeks of this campaign, more and more people will understand what's at stake in this election. It really does come down to what kind of country we are going to have.</p>, <p><strong>TRUMP:</strong> So sad when she talks about violence at my rallies, and she caused the violence. It's on tape.</p>, <p><strong>WALLACE:</strong> During the last...</p>, <p><strong>TRUMP:</strong> The other things are false, but honestly, I'd love to talk about getting rid of ISIS, and I'd love to talk about other things...</p>, <p><strong>WALLACE:</strong> OK.</p>, <p><strong>TRUMP:</strong> ... but those other charges, as she knows, are false.</p>, <p><strong>WALLACE:</strong> In this bucket about fitness to be president, there's been a lot of developments over the last 10 days since the last debate. I'd like to ask you about them. These are questions that the American people have. Secretary Clinton, during your 2009 Senate confirmation hearing, you promised to avoid even the appearance of a conflict of interest with your dealing with the Clinton Foundation while you were secretary of state, but emails show that donors got special access to you. Those seeking grants for Haiti relief were considered separately from nondonors, and some of those donors got contracts, government contracts, taxpayer money. Can you really say that you kept your pledge to that Senate committee? And why isn't what happened and what went on between you and the Clinton Foundation, why isn't it what Mr. Trump calls pay to play?</p>, <p><strong>CLINTON:</strong> Well, everything I did as secretary of state was in furtherance of our country's interests and our values. The State Department has said that. I think that's been proven. But I am happy, in fact I'm thrilled to talk about the Clinton Foundation, because it is a world¬renowned charity and I am so proud of the work that it does. You know, I could talk for the rest of the debate I know I don't have the time to do that. But just briefly, the Clinton Foundation made it possible for 11 million people around the world with HIV¬AIDS to afford treatment, and that's about half all the people in the world who are getting treatment. In partnership with the American Health Association...</p>, <p><strong>WALLACE:</strong> Secretary Clinton...</p>, <p><strong>CLINTON:</strong> ... we have made environments in schools healthier for kids, including healthier lunches...</p>, <p><strong>WALLACE:</strong> Secretary Clinton, respectfully, this is this is an open discussion.</p>, <p><strong>CLINTON:</strong> Well, it is an open discussion. And you...</p>, <p><strong>WALLACE:</strong> And the specific question went to pay for play. Do you want to talk about that?</p>, <p><strong>CLINTON:</strong> Well, but there is no but there is no evidence but there is... (CROSSTALK)</p>, <p><strong>TRUMP:</strong> I think that it's been very well...</p>, <p class=\"visually-hidden\">The Christian Post</p>]\n"
          ],
          "name": "stdout"
        }
      ]
    },
    {
      "cell_type": "code",
      "metadata": {
        "id": "9ymsHAlv3E4C",
        "colab_type": "code",
        "colab": {}
      },
      "source": [
        "transcript = []\n",
        "\n",
        "for tag in p_tags:\n",
        "  for t in tag:\n",
        "    transcript.append(t.get_text())"
      ],
      "execution_count": 27,
      "outputs": []
    },
    {
      "cell_type": "code",
      "metadata": {
        "id": "9cpzrvUHq95S",
        "colab_type": "code",
        "colab": {}
      },
      "source": [
        "for line in range(len(transcript)):\n",
        "  transcript[line] = transcript[line].replace(u'\\xa0', u' ')"
      ],
      "execution_count": 28,
      "outputs": []
    },
    {
      "cell_type": "code",
      "metadata": {
        "id": "1fW_tNFI7klB",
        "colab_type": "code",
        "colab": {
          "base_uri": "https://localhost:8080/",
          "height": 205
        },
        "outputId": "2fbe0e31-adbb-490e-9a13-98d08b73ef04"
      },
      "source": [
        "transcript[:10]"
      ],
      "execution_count": 29,
      "outputs": [
        {
          "output_type": "execute_result",
          "data": {
            "text/plain": [
              "['The Christian Post',\n",
              " \" To enjoy our website, you'll need to enable JavaScript in your web browser. Please click here to learn how. \",\n",
              " 'Donald Trump and Hillary Clinton had their third and final debate on October 19 at the University of Nevada, Las Vegas. The six topics they discussed during the 90 minute debate included: the economy, immigration, national debt and entitlements, the Supreme Court, foreign problems and \"fitness to be president.\"',\n",
              " 'Here is the transcript of the third U.S. presidential debate between the 2016 Republican Presidential Nominee Donald Trump and Democratic Presidential Nominee Hillary Clinton held live in Las Vegas, Nevada. The debate was moderated by Chris Wallace, host of Fox News Sunday.',\n",
              " \"WALLACE: Good evening from the Thomas and Mack Center at the University of Nevada, Las Vegas. I'm Chris Wallace of Fox News, and I welcome you to the third and final of the 2016 presidential debates between Secretary of State Hillary Clinton and Donald J. Trump.\",\n",
              " 'WALLACE: This debate is sponsored by the Commission on Presidential Debates. The commission has designed the format:Six roughly 15\\xad minute segments with two\\xadminute answers to the first question, then open discussion for the rest of each segment. Both campaigns have agreed to those rules. For the record, I decided the topics and the questions in each topic. None of those questions has been shared with the commission or the two candidates. The audience here in the hall has promised to remain silent. No cheers, boos, or other interruptions so we and you can focus on what the candidates have to say.',\n",
              " \" WALLACE: No noise, except right now, as we welcome the Democratic nominee for president, Secretary Clinton, and the Republican nominee for president, Mr. Trump. (APPLAUSE) Secretary Clinton, Mr. Trump, welcome. Let's get right to it. The first topic is the Supreme Court. You both talked briefly about the court in the last debate, but I want to drill down on this, because the next president will almost certainly have at least one appointment and likely or possibly two or three appointments.\",\n",
              " \"WALLACE: Which means that you will, in effect, determine the balance of the court for what could be the next quarter century. First of all, where do you want to see the court take the country? And secondly, what's your view on how the Constitution should be interpreted? Do the founders' words mean what they say or is it a living document to be applied flexibly according to changing circumstances? In this segment, Secretary Clinton, you go first. You have two minutes.\",\n",
              " \"CLINTON: Thank you very much, Chris. And thanks to UNLV for hosting us. You know, Ithink when we talk about the Supreme Court, it really raises the central issue in this election, namely, what kind of country are we going to be? What kind of opportunities will we provide for our citizens? What kind of rights will Americans have? And Ifeel strongly that the Supreme Court needs to stand on the side of the American people, not on the side of the powerful corporations and the wealthy. For me, that means that we need a Supreme Court that will stand up on behalf of women's rights, on behalf of the rights of the LGBT community, that will stand up and say no to Citizens United, a decision that has undermined the election system in our country because of the way it permits dark, unaccountable money to come into our electoral system. I have major disagreements with my opponent about these issues and others that will be before the Supreme Court. But I feel that at this point in our country's history, it is important that we not reverse marriage equality, that we not reverse Roe v. Wade, that we stand up against Citizens United, we stand up for the rights of people in the workplace, that we stand up and basically say: The Supreme Court should represent all of us. That's how I see the court, and the kind of people that I would be looking to nominate to the court would be in the great tradition of standing up to the powerful, standing up on behalf of our rights as Americans. And Ilook forward to having that opportunity. I would hope that the Senate would do its job and confirm the nominee that President Obama has sent to them. That's the way the Constitution fundamentally should operate. The president nominates, and then the Senate advises and consents, or not, but they go forward with the process.\",\n",
              " 'WALLACE: Secretary Clinton, thank you.']"
            ]
          },
          "metadata": {
            "tags": []
          },
          "execution_count": 29
        }
      ]
    },
    {
      "cell_type": "code",
      "metadata": {
        "id": "IeRzLc1jN8ET",
        "colab_type": "code",
        "colab": {}
      },
      "source": [
        "trump_arguments = []\n",
        "clinton_arguments = []"
      ],
      "execution_count": 30,
      "outputs": []
    },
    {
      "cell_type": "code",
      "metadata": {
        "id": "0XHh9tzs7s3l",
        "colab_type": "code",
        "colab": {}
      },
      "source": [
        "for sen in range(len(transcript)):\n",
        "  if transcript[sen].startswith('TRUMP'):\n",
        "    trump_arguments.append(transcript[sen])\n",
        "\n",
        "  elif transcript[sen].startswith('CLINTON'):\n",
        "    clinton_arguments.append(transcript[sen])\n"
      ],
      "execution_count": 31,
      "outputs": []
    },
    {
      "cell_type": "code",
      "metadata": {
        "id": "i-y8NUTpUVvu",
        "colab_type": "code",
        "colab": {}
      },
      "source": [
        "for arg in range(len(trump_arguments)):\n",
        "  trump_arguments[arg] = trump_arguments[arg].split(' ',1)[1:]"
      ],
      "execution_count": 32,
      "outputs": []
    },
    {
      "cell_type": "code",
      "metadata": {
        "id": "zNieOMDS9d1a",
        "colab_type": "code",
        "colab": {}
      },
      "source": [
        "for arg in range(len(clinton_arguments)):\n",
        "  clinton_arguments[arg] = clinton_arguments[arg].split(' ',1)[1:]"
      ],
      "execution_count": 33,
      "outputs": []
    },
    {
      "cell_type": "code",
      "metadata": {
        "id": "lnNblomH9mQ7",
        "colab_type": "code",
        "colab": {
          "base_uri": "https://localhost:8080/",
          "height": 205
        },
        "outputId": "1f524d37-72bd-4ca0-9325-a4f8e3f039af"
      },
      "source": [
        "clinton_arguments[:10]"
      ],
      "execution_count": 34,
      "outputs": [
        {
          "output_type": "execute_result",
          "data": {
            "text/plain": [
              "[[\"Thank you very much, Chris. And thanks to UNLV for hosting us. You know, Ithink when we talk about the Supreme Court, it really raises the central issue in this election, namely, what kind of country are we going to be? What kind of opportunities will we provide for our citizens? What kind of rights will Americans have? And Ifeel strongly that the Supreme Court needs to stand on the side of the American people, not on the side of the powerful corporations and the wealthy. For me, that means that we need a Supreme Court that will stand up on behalf of women's rights, on behalf of the rights of the LGBT community, that will stand up and say no to Citizens United, a decision that has undermined the election system in our country because of the way it permits dark, unaccountable money to come into our electoral system. I have major disagreements with my opponent about these issues and others that will be before the Supreme Court. But I feel that at this point in our country's history, it is important that we not reverse marriage equality, that we not reverse Roe v. Wade, that we stand up against Citizens United, we stand up for the rights of people in the workplace, that we stand up and basically say: The Supreme Court should represent all of us. That's how I see the court, and the kind of people that I would be looking to nominate to the court would be in the great tradition of standing up to the powerful, standing up on behalf of our rights as Americans. And Ilook forward to having that opportunity. I would hope that the Senate would do its job and confirm the nominee that President Obama has sent to them. That's the way the Constitution fundamentally should operate. The president nominates, and then the Senate advises and consents, or not, but they go forward with the process.\"],\n",
              " [\"Well, first of all, I support the Second Amendment. Ilived in Arkansas for 18 wonderful years. I represented upstate New York. I understand and respect the tradition of gun ownership. It goes back to the founding of our country. But I also believe that there can be and must be reasonable regulation. Because I support the Second Amendment doesn't mean that I want people who shouldn't have guns to be able to threaten you, kill you or members of your family. And so when Ithink about what we need to do, we have 33,000 people a year who die from guns. Ithink we need comprehensive background checks, need to close the online loophole, close the gun show loophole. There's other matters that I think are sensible that are the kind of reforms that would make a difference that are not in any way conflicting with the Second Amendment. You mentioned the Heller decision. And what I was saying that you referenced, Chris, was that I disagreed with the way the court applied the Second Amendment in that case, because what the District of Columbia was trying to do was to protect toddlers from guns and so they wanted people with guns to safely store them. And the court didn't accept that reasonable regulation, but they've accepted many others. So I see no conflict between saving people's lives and defending the Second Amendment.\"],\n",
              " [\"Well, I was upset because, unfortunately, dozens of toddlers injure themselves, even kill people with guns, because, unfortunately, not everyone who has loaded guns in their homes takes appropriate precautions. But there's no doubt that I respect the Second Amendment, that I also believe there's an individual right to bear arms. That is not in conflict with sensible, commonsense regulation. And, you know, look, I understand that Donald's been strongly supported by the NRA. The gun lobby's on his side. They're running millions of dollars of ads against me. And I regret that, because what I would like to see is for people to come together and say: Of course we're going to protect and defend the Second Amendment. But we're going to do it in a way that tries to save some of these 33,000 lives that we lose every year.\"],\n",
              " [\"Well, I strongly support Roe v. Wade, which guarantees a constitutional right to a woman to make the most intimate, most difficult, in many cases, decisions about her health care that one can imagine. And in this case, it's not only about Roe v. Wade. It is about what's happening right now in America. So many states are putting very stringent regulations on women that block them from exercising that choice to the extent that they are defunding Planned Parenthood, which, of course, provides all kinds of cancer screenings and other benefits for women in our country. Donald has said he's in favor of defunding Planned Parenthood. He even supported shutting the government down to defund Planned Parenthood. I will defend Planned Parenthood. I will defend Roe v. Wade, and I will defend women's rights to make their own health care decisions.\"],\n",
              " ['And we have come too far to have that turned back now. And, indeed, he said women should be punished, that there should be some form of punishment for women who obtain abortions. And I could just not be more opposed to that kind of thinking.'],\n",
              " ['Because Roe v. Wade very clearly sets out that there can be regulations on abortion so long as the life and the health of the mother are taken into account. And when I voted as a senator, I did not think that that was the case. The kinds of cases that fall at the end of pregnancy are often the most heartbreaking, painful decisions for families to make. I have met with women who toward the end of their pregnancy get the worst news one could get, that their health is in jeopardy if they continue to carry to term or that something terrible has happened or just been discovered about the pregnancy. I do not think the United States government should be stepping in and making those most personal of decisions. So you can regulate if you are doing so with the life and the health of the mother taken into account.'],\n",
              " [\"Well, that is not what happens in these cases. And using that kind of scare rhetoric is just terribly unfortunate. You should meet with some of the women that I have met with, women I have known over the course of my life. This is one of the worst possible choices that any woman and her family has to make. And I do not believe the government should be making it. You know, I've had the great honor of traveling across the world on behalf of our country. I've been to countries where governments either forced women to have abortions, like they used to do in China, or forced women to bear children, like the used to do in Romania. And I can tell you: The government has no business in the decisions that women make with their families in accordance with their faith, with medical advice. And I will stand up for that right.\"],\n",
              " [\"Well, as he was talking, I was thinking about a young girl I met here in Las Vegas, Carla, who is very worried that her parents might be deported, because she was born in this country but they were not. They work hard, they do everything they can to give her a good life. And you're right. I don't want to rip families apart. I don't want to be sending parents away from children. I don't want to see the deportation force that Donald has talked about in action in our country. We have 11 million undocumented people. They have 4 million American citizen children, 15 million people. He said as recently as a few weeks ago in Phoenix that every undocumented person would be subject to deportation. Now, here's what that means. It means you would have to have a massive law enforcement presence, where law enforcement officers would be going school to school, home to home, business to business, rounding up people who are undocumented. And we would then have to put them on trains, on buses to get them out of our country. I think that is an idea that is not in keeping with who we are as a nation. Ithink it's an idea that would rip our country apart. I have been for border security for years. I voted for border security in the United States Senate. And my comprehensive immigration reform plan of course includes border security. But I want to put our resources where Ithink they're most needed: Getting rid of any violent person. Anybody who should be deported, we should deport them. When it comes to the wall that Donald talks about building, he went to Mexico, he had a meeting with the Mexican president. Didn't even raise it. He choked and then got into a Twitter war because the Mexican president said we're not paying for that wall. So Ithink we are both a nation of immigrants and we are a nation of laws and that we can act accordingly. And that's why I'm introducing comprehensive immigration reform within the first 100 days with the path to citizenship.\"],\n",
              " ['I voted for border security, and there are...'],\n",
              " ['There are some limited places where that was appropriate. There also is necessarily going to be new technology and how best to deploy that. But it is clear, when you look at what Donald has been proposing, he started his campaign bashing immigrants, calling Mexican immigrants rapists and criminals and drug dealers, that he has a very different view about what we should do to deal with immigrants. Now, what I am also arguing is that bringing undocumented immigrants out from the shadows, putting them into the formal economy will be good, because then employers can\\'t exploit them and undercut Americans\\' wages. And Donald knows a lot about this. He used undocumented labor to build the Trump Tower. He underpaid undocumented workers, and when they complained, he basically said what a lot of employers do: \"You complain, I\\'ll get you deported.\" I want to get everybody out of the shadows, get the economy working, and not let employers like Donald exploit undocumented workers, which hurts them, but also hurts American workers.']]"
            ]
          },
          "metadata": {
            "tags": []
          },
          "execution_count": 34
        }
      ]
    },
    {
      "cell_type": "code",
      "metadata": {
        "id": "Ss_I3MALbDvY",
        "colab_type": "code",
        "colab": {
          "base_uri": "https://localhost:8080/",
          "height": 205
        },
        "outputId": "e6211c8a-7c5a-40c1-9fb5-4320db7c248c"
      },
      "source": [
        "trump_arguments[:10]"
      ],
      "execution_count": 35,
      "outputs": [
        {
          "output_type": "execute_result",
          "data": {
            "text/plain": [
              "[[\"Well, first of all, it's great to be with you, and thank you, everybody. The Supreme Court:It's what it's all about. Our country is so, so \\xad\\xad it's just so imperative that we have the right justices. Something happened recently where Justice Ginsburg made some very, very inappropriate statements toward me and toward a tremendous number of people, many, many millions of people that I represent. And she was forced to apologize. And apologize she did. But these were statements that should never, ever have been made. We need a Supreme Court that in my opinion is going to uphold the Second Amendment, and all amendments, but the Second Amendment, which is under absolute siege. I believe if my opponent should win this race, which Itruly don't think will happen, we will have a Second Amendment which will be a very, very small replica of what it is right now. But I feel that it's absolutely important that we uphold, because of the fact that it is under such trauma. Ifeel that the justices that I am going to appoint \\xad\\xad and I've named 20 of them \\xad\\xad the justices that I'm going to appoint will be pro\\xadlife. They will have a conservative bent. They will be protecting the Second Amendment. They are great scholars in all cases, and they're people of tremendous respect. They will interpret the Constitution the way the founders wanted it interpreted. And I believe that's very, very important. I don't think we should have justices appointed that decide what they want to hear. It's all about the Constitution of \\xad\\xad of \\xad\\xad and so important, the Constitution the way it was meant to be. And those are the people that I will appoint.\"],\n",
              " ['Well, the D.C. vs. Heller decision was very strongly \\xad\\xad and she was extremely angry about it. I watched. I mean, she was very, very angry when upheld. And Justice Scalia was so involved. And it was a well\\xadcrafted decision. But Hillary was extremely upset, extremely angry. And people that believe in the Second Amendment and believe in it very strongly were very upset with what she had to say.'],\n",
              " [\"Well, let me just tell you before we go any further. In Chicago, which has the toughest gun laws in the United States, probably you could say by far, they have more gun violence than any other city. So we have the toughest laws, and you have tremendous gun violence. I am a very strong supporter of the Second Amendment. And I am \\xad\\xad I don't know if Hillary was saying it in a sarcastic manner, but I'm very proud to have the endorsement of the NRA. And it's the earliest endorsement they've ever given to anybody who ran for president. So I'm very honored by all of that. We are going to appoint justices \\xad\\xad this is the best way to help the Second Amendment. We are going to appoint justices that will feel very strongly about the Second Amendment, that will not do damage to the Second Amendment.\"],\n",
              " ['Right.'],\n",
              " [\"Well, if we put another two or perhaps three justice on, that's really what's going to be \\xad\\xad that will happen. And that'll happen automatically, in my opinion, because I am putting pro\\xadlife justices on the court. I will say this:It will go back to the states, and the states will then make a determination.\"],\n",
              " [\"Well, Ithink it's terrible. If you go with what Hillary is saying, in the ninth month, you can take the baby and rip the baby out of the womb of the mother just prior to the birth of the baby. Now, you can say that that's OK and Hillary can say that that's OK. But it's not OK with me, because based on what she's saying, and based on where she's going, and where she's been, you can take the baby and rip the baby out of the womb in the ninth month on the final day. And that's not acceptable.\"],\n",
              " ['And, honestly, nobody has business doing what Ijust said, doing that, as late as one or two or three or four days prior to birth. Nobody has that.'],\n",
              " [\"Well, first of all, she wants to give amnesty, which is a disaster and very unfair to all of the people that are waiting on line for many, many years. We need strong borders. In the audience tonight, we have four mothers of \\xad\\xad I mean, these are unbelievable people that I've gotten to know over a period of years whose children have been killed, brutally killed by people that came into the country illegally. You have thousands of mothers and fathers and relatives all over the country. They're coming in illegally. Drugs are pouring in through the border. We have no country if we have no border. Hillary wants to give amnesty. She wants to have open borders. The border \\xad\\xad as you know, the Border Patrol agents, 16,500\\xad plus ICE last week, endorsed me. First time they've ever endorsed a candidate. It means their job is tougher. But they know what's going on. They know it better than anybody. They want strong borders. They feel we have to have strong borders. I was up in New Hampshire the other day. The biggest complaint they have \\xad\\xad it's with all of the problems going on in the world, many of the problems caused by Hillary Clinton and by Barack Obama. All of the problems \\xad\\xad the single biggest problem is heroin that pours across our southern border. It's just pouring and destroying their youth. It's poisoning the blood of their youth and plenty of other people. We have to have strong borders. We have to keep the drugs out of our country. We are \\xad\\xad right now, we're getting the drugs, they're getting the cash. We need strong borders. We need absolute \\xad\\xad we cannot give amnesty. Now, I want to build the wall. We need the wall. And the Border Patrol, ICE, they all want the wall. We stop the drugs. We shore up the border. One of my first acts will be to get all of the drug lords, all of the bad ones \\xad\\xad we have some bad, bad people in this country that have to go out. We're going to get them out; we're going to secure the border. And once the border is secured, at a later date, we'll make a determination as to the rest. But we have some bad hombres here, and we're going to get them out.\"],\n",
              " [\" Chris, I think it's...\"],\n",
              " [\"I think I should respond to that. First of all, I had a very good meeting with the president of Mexico. Very nice man. We will be doing very much better with Mexico on trade deals. Believe me. The NAFTA deal signed by her husband is one of the worst deals ever made of any kind, signed by anybody. It's a disaster. Hillary Clinton wanted the wall. Hillary Clinton fought for the wall in 2006 or thereabouts. Now, she never gets anything done, so naturally the wall wasn't built. But Hillary Clinton wanted the wall.\"]]"
            ]
          },
          "metadata": {
            "tags": []
          },
          "execution_count": 35
        }
      ]
    },
    {
      "cell_type": "code",
      "metadata": {
        "id": "dmOr3Az3cwOV",
        "colab_type": "code",
        "colab": {}
      },
      "source": [
        "trump_text = []\n",
        "clinton_text = []\n",
        "\n",
        "for arg in range(len(trump_arguments)):\n",
        "  trump_text.append(''.join(trump_arguments[arg]))\n",
        "\n",
        "for arg in range(len(clinton_arguments)):\n",
        "  clinton_text.append(''.join(clinton_arguments[arg]))\n",
        "\n",
        "trump_text = ''.join(trump_text)\n",
        "clinton_text = ''.join(clinton_text)"
      ],
      "execution_count": 36,
      "outputs": []
    },
    {
      "cell_type": "code",
      "metadata": {
        "id": "AEgl-KbVAxCI",
        "colab_type": "code",
        "colab": {
          "base_uri": "https://localhost:8080/",
          "height": 120
        },
        "outputId": "018b9495-6baa-4f6c-99dd-26bac4d1f7ce"
      },
      "source": [
        "clinton_text"
      ],
      "execution_count": 37,
      "outputs": [
        {
          "output_type": "execute_result",
          "data": {
            "application/vnd.google.colaboratory.intrinsic+json": {
              "type": "string"
            },
            "text/plain": [
              "'Thank you very much, Chris. And thanks to UNLV for hosting us. You know, Ithink when we talk about the Supreme Court, it really raises the central issue in this election, namely, what kind of country are we going to be? What kind of opportunities will we provide for our citizens? What kind of rights will Americans have? And Ifeel strongly that the Supreme Court needs to stand on the side of the American people, not on the side of the powerful corporations and the wealthy. For me, that means that we need a Supreme Court that will stand up on behalf of women\\'s rights, on behalf of the rights of the LGBT community, that will stand up and say no to Citizens United, a decision that has undermined the election system in our country because of the way it permits dark, unaccountable money to come into our electoral system. I have major disagreements with my opponent about these issues and others that will be before the Supreme Court. But I feel that at this point in our country\\'s history, it is important that we not reverse marriage equality, that we not reverse Roe v. Wade, that we stand up against Citizens United, we stand up for the rights of people in the workplace, that we stand up and basically say: The Supreme Court should represent all of us. That\\'s how I see the court, and the kind of people that I would be looking to nominate to the court would be in the great tradition of standing up to the powerful, standing up on behalf of our rights as Americans. And Ilook forward to having that opportunity. I would hope that the Senate would do its job and confirm the nominee that President Obama has sent to them. That\\'s the way the Constitution fundamentally should operate. The president nominates, and then the Senate advises and consents, or not, but they go forward with the process.Well, first of all, I support the Second Amendment. Ilived in Arkansas for 18 wonderful years. I represented upstate New York. I understand and respect the tradition of gun ownership. It goes back to the founding of our country. But I also believe that there can be and must be reasonable regulation. Because I support the Second Amendment doesn\\'t mean that I want people who shouldn\\'t have guns to be able to threaten you, kill you or members of your family. And so when Ithink about what we need to do, we have 33,000 people a year who die from guns. Ithink we need comprehensive background checks, need to close the online loophole, close the gun show loophole. There\\'s other matters that I think are sensible that are the kind of reforms that would make a difference that are not in any way conflicting with the Second Amendment. You mentioned the Heller decision. And what I was saying that you referenced, Chris, was that I disagreed with the way the court applied the Second Amendment in that case, because what the District of Columbia was trying to do was to protect toddlers from guns and so they wanted people with guns to safely store them. And the court didn\\'t accept that reasonable regulation, but they\\'ve accepted many others. So I see no conflict between saving people\\'s lives and defending the Second Amendment.Well, I was upset because, unfortunately, dozens of toddlers injure themselves, even kill people with guns, because, unfortunately, not everyone who has loaded guns in their homes takes appropriate precautions. But there\\'s no doubt that I respect the Second Amendment, that I also believe there\\'s an individual right to bear arms. That is not in conflict with sensible, commonsense regulation. And, you know, look, I understand that Donald\\'s been strongly supported by the NRA. The gun lobby\\'s on his side. They\\'re running millions of dollars of ads against me. And I regret that, because what I would like to see is for people to come together and say: Of course we\\'re going to protect and defend the Second Amendment. But we\\'re going to do it in a way that tries to save some of these 33,000 lives that we lose every year.Well, I strongly support Roe v. Wade, which guarantees a constitutional right to a woman to make the most intimate, most difficult, in many cases, decisions about her health care that one can imagine. And in this case, it\\'s not only about Roe v. Wade. It is about what\\'s happening right now in America. So many states are putting very stringent regulations on women that block them from exercising that choice to the extent that they are defunding Planned Parenthood, which, of course, provides all kinds of cancer screenings and other benefits for women in our country. Donald has said he\\'s in favor of defunding Planned Parenthood. He even supported shutting the government down to defund Planned Parenthood. I will defend Planned Parenthood. I will defend Roe v. Wade, and I will defend women\\'s rights to make their own health care decisions.And we have come too far to have that turned back now. And, indeed, he said women should be punished, that there should be some form of punishment for women who obtain abortions. And I could just not be more opposed to that kind of thinking.Because Roe v. Wade very clearly sets out that there can be regulations on abortion so long as the life and the health of the mother are taken into account. And when I voted as a senator, I did not think that that was the case. The kinds of cases that fall at the end of pregnancy are often the most heartbreaking, painful decisions for families to make. I have met with women who toward the end of their pregnancy get the worst news one could get, that their health is in jeopardy if they continue to carry to term or that something terrible has happened or just been discovered about the pregnancy. I do not think the United States government should be stepping in and making those most personal of decisions. So you can regulate if you are doing so with the life and the health of the mother taken into account.Well, that is not what happens in these cases. And using that kind of scare rhetoric is just terribly unfortunate. You should meet with some of the women that I have met with, women I have known over the course of my life. This is one of the worst possible choices that any woman and her family has to make. And I do not believe the government should be making it. You know, I\\'ve had the great honor of traveling across the world on behalf of our country. I\\'ve been to countries where governments either forced women to have abortions, like they used to do in China, or forced women to bear children, like the used to do in Romania. And I can tell you: The government has no business in the decisions that women make with their families in accordance with their faith, with medical advice. And I will stand up for that right.Well, as he was talking, I was thinking about a young girl I met here in Las Vegas, Carla, who is very worried that her parents might be deported, because she was born in this country but they were not. They work hard, they do everything they can to give her a good life. And you\\'re right. I don\\'t want to rip families apart. I don\\'t want to be sending parents away from children. I don\\'t want to see the deportation force that Donald has talked about in action in our country. We have 11 million undocumented people. They have 4 million American citizen children, 15 million people. He said as recently as a few weeks ago in Phoenix that every undocumented person would be subject to deportation. Now, here\\'s what that means. It means you would have to have a massive law enforcement presence, where law enforcement officers would be going school to school, home to home, business to business, rounding up people who are undocumented. And we would then have to put them on trains, on buses to get them out of our country. I think that is an idea that is not in keeping with who we are as a nation. Ithink it\\'s an idea that would rip our country apart. I have been for border security for years. I voted for border security in the United States Senate. And my comprehensive immigration reform plan of course includes border security. But I want to put our resources where Ithink they\\'re most needed: Getting rid of any violent person. Anybody who should be deported, we should deport them. When it comes to the wall that Donald talks about building, he went to Mexico, he had a meeting with the Mexican president. Didn\\'t even raise it. He choked and then got into a Twitter war because the Mexican president said we\\'re not paying for that wall. So Ithink we are both a nation of immigrants and we are a nation of laws and that we can act accordingly. And that\\'s why I\\'m introducing comprehensive immigration reform within the first 100 days with the path to citizenship.I voted for border security, and there are...There are some limited places where that was appropriate. There also is necessarily going to be new technology and how best to deploy that. But it is clear, when you look at what Donald has been proposing, he started his campaign bashing immigrants, calling Mexican immigrants rapists and criminals and drug dealers, that he has a very different view about what we should do to deal with immigrants. Now, what I am also arguing is that bringing undocumented immigrants out from the shadows, putting them into the formal economy will be good, because then employers can\\'t exploit them and undercut Americans\\' wages. And Donald knows a lot about this. He used undocumented labor to build the Trump Tower. He underpaid undocumented workers, and when they complained, he basically said what a lot of employers do: \"You complain, I\\'ll get you deported.\" I want to get everybody out of the shadows, get the economy working, and not let employers like Donald exploit undocumented workers, which hurts them, but also hurts American workers.We will not have open borders. That is...That is a rank mischaracterization.We will have secure borders, but we\\'ll also have reform. And this used to be a bipartisan issue. Ronald Reagan was the last president...... to sign immigration reform, and George W. Bush supported it, as well.So I actually think the most important question of this evening, Chris, is, finally, will Donald Trump admit and condemn that the Russians are doing this and make it clear that he will not have the help of Putin in in this election, that he rejects Russian espionage against Americans, which he actually encouraged in the past? Those are the questions we need answered. We\\'ve never had anything like this happen in any of our elections before.Well, that\\'s because he\\'d rather have a puppet as president of the United States.And it\\'s pretty clear...It\\'s pretty clear you won\\'t admit...... that the Russians have engaged in cyberattacks against the United States of America, that you encouraged espionage against our people, that you are willing to spout the Putin line, sign up for his wish list, break up NATO, do whatever he wants to do, and that you continue to get help from him, because he has a very clear favorite in this race. So Ithink that this is such an unprecedented situation. We\\'ve never had a foreign government trying to interfere in our election. We have 17 \\xad\\xad 17 intelligence agencies, civilian and military, who have all concluded that these espionage attacks, these cyberattacks, come from the highest levels of the Kremlin and they are designed to influence our election. I find that deeply disturbing.And I think it\\'s time you take a stand...am not quoting myself.I am quoting 17...... 17 intelligence \\xad\\xad do you doubt 17 military and civilian...... agencies.Well, he\\'d rather believe Vladimir Putin than the military and civilian intelligence professionals who are sworn to protect us. I find that just absolutely...I\\xad\\xad Ifind it ironic that he\\'s raising nuclear weapons. This is a person who has been very cavalier, even casual about the use of nuclear weapons. He\\'s...... advocated more countries getting them, Japan, Korea, even Saudi Arabia. He said, well, if we have them, why don\\'t we use them, which I think is terrifying. But here\\'s the deal. The bottom line on nuclear weapons is that when the president gives the order, it must be followed. There\\'s about four minutes between the order being given and the people responsible for launching nuclear weapons to do so. And that\\'s why 10 people who have had that awesome responsibility have come out and, in an unprecedented way, said they would not trust Donald Trump with the nuclear codes or to have his finger on the nuclear button.Well, I\\'m just quoting you when you were asked...... about a potential nuclear \\xad\\xad nuclear competition in Asia, you said, you know, go ahead, enjoy yourselves, folks. That kind...... of language \\xad\\xad well...The United States has kept the peace \\xad\\xad the United States has kept the peace through our alliances. Donald wants to tear up our alliances. Ithink it makes the world safer and, frankly, it makes the United States safer. I would work with our allies in Asia, in Europe, in the Middle East, and elsewhere. That\\'s the only way we\\'re going to be able to keep the peace.Well, Ithink when the middle class thrives, America thrives. And so my plan is based on growing the economy, giving middle\\xad class families many more opportunities. I want us to have the biggest jobs program since World War II, jobs in infrastructure and advanced manufacturing. Ithink we can compete with high\\xadwage countries, and I believe we should. New jobs and clean energy, not only to fight climate change, which is a serious problem, but to create new opportunities and new businesses. I want us to do more to help small business. That\\'s where two\\xad thirds of the new jobs are going to come from. I want us to raise the national minimum wage, because people who live in poverty should not \\xad\\xad who work full\\xadtime should not still be in poverty. And I sure do want to make sure women get equal pay for the work we do. I feel strongly that we have to have an education system that starts with preschool and goes through college. That\\'s why I want more technical education in high schools and in community colleges, real apprenticeships to prepare young people for the jobs of the future. I want to make college debt\\xadfree and for families making less than $125,000, you will not get a tuition bill from a public college or university if the plan that I worked on with Bernie Sanders is enacted. And we\\'re going to work hard to make sure that it is, because we are going to go where the money is. Most of the gains in the last years since the Great Recession have gone to the very top. So we are going to have the wealthy pay their fair share. We\\'re going to have corporations make a contribution greater than they are now to our country. That is a plan that has been analyzed by independent experts which said that it could produce 10 million new jobs. By contrast, Donald\\'s plan has been analyzed to conclude it might lose 3.5 million jobs. Why? Because his whole plan is to cut taxes, to give the biggest tax breaks ever to the wealthy and to corporations, adding $20 trillion to our debt, and causing the kind of dislocation that we have seen before, because it truly will be trickle\\xaddown economics on steroids. So the plan I have Ithink will actually produce greater opportunities. The plan he has will cost us jobs and possibly lead to another Great Recession.Well, let me translate that, if I can, Chris, because...... the fact is, he\\'s going to advocate for the largest tax cuts we\\'ve ever seen, three times more than the tax cuts under the Bush administration. I have said repeatedly throughout this campaign:I will not raise taxes on anyone making $250,000 or less. I also will not add a penny to the debt. I have costed out what I\\'m going to do. He will, through his massive tax cuts, add $20 trillion to the debt. Well, he mentioned the debt. We know how to get control of the debt. When my husband was president, we went from a $300 billion deficit to a $200 billion surplus and we were actually on the path to eliminating the national debt. When President Obama came into office, he inherited the worst economic disaster since the Great Depression. He has cut the deficit by two thirds. So, yes, one of the ways you go after the debt, one of the ways you create jobs is by investing in people. So I do have investments, investments in new jobs, investments in education, skill training, and the opportunities for people to get ahead and stay ahead. That\\'s the kind of approach that will work.Cutting taxes on the wealthy, we\\'ve tried that. It has not worked the way that it has been promised.Well, it\\'s a combination, Chris. And let me say that when you inherit the level of economic catastrophe that President Obama inherited, it was a real touch and go situation. I was in the Senate before I became secretary of state. I\\'ve never seen people as physically distraught as the Bush administration team was because of what was happening to the economy. I personally believe that the steps that President Obama took saved the economy. He doesn\\'t get the credit he deserves for taking some very hard positions. But it was a terrible recession. So now we\\'ve dug ourselves out of it, we\\'re standing, but we\\'re not yet running. So what I am proposing is that we invest from the middle out and the ground up, not the top down. That is not going to work. That\\'s why what I have put forward doesn\\'t add a penny to the debt, but it is the kind of approach that will enable more people to take those new jobs, higher paying jobs. We\\'re beginning to see some increase in incomes, and we certainly have had a long string of increasing jobs. We\\'ve got to do more to get the whole economy moving, and that\\'s what I believe I will be able to do.Well, first, let me say, number one, when I saw the final agreement for TPP, I said I was against it. It didn\\'t meet my test. I\\'ve had the same test. Does it create jobs, raise incomes, and further our national security? I\\'m against it now. I\\'ll be against it after the election. I\\'ll be against it when I\\'m president. There\\'s only one of us on this stage who\\'s actually shipped jobs to Mexico, because that\\'s Donald. He\\'s shipped jobs to 12 countries, including Mexico. But he mentioned China. And, you know, one of the biggest problems we have with China is the illegal dumping of steel and aluminum into our markets. I have fought against that as a senator. I\\'ve stood up against it as secretary of state. Donald has bought Chinese steel and aluminum. In fact, the Trump Hotel right here in Las Vegas was made with Chinese steel. So he goes around with crocodile tears about how terrible it is, but he has given jobs to Chinese steelworkers, not American steelworkers.That\\'s the kind of approach that is just not going to work.We\\'re going to pull the country together. We\\'re going to have trade agreements that we enforce. That\\'s why I\\'m going to have a trade prosecutor for the first time in history. And we\\'re going to enforce those agreements, and we\\'re going to look for businesses to help us by buying American products.No, I voted.Well, first of all, what he just said about the State Department is not only untrue, it\\'s been debunked numerous times.But Ithink it\\'s really an important issue. He raised the 30 years of experience, so let me just talk briefly about that. You know, back in the 1970s, I worked for the Children\\'s Defense Fund. And I was taking on discrimination against African American kids in schools. He was getting sued by the Justice Department for racial discrimination in his apartment buildings. In the 1980s, I was working to reform the schools in Arkansas. He was borrowing $14 million from his father to start his businesses. In the 1990s, I went to Beijing and I said women\\'s rights are human rights. He insulted a former Miss Universe, Alicia Machado, called her an eating machine.And on the day when I was in the Situation Room, monitoring the raid that brought Osama bin Laden to justice, he was hosting the \"Celebrity Apprentice.\" So I\\'m happy to compare my 30 years of experience, what I\\'ve done for this country, trying to help in every way I could, especially kids and families get ahead and stay ahead, with your 30 years, and I\\'ll let the American people make that decision.Well...At the last debate, we heard Donald talking about what he did to women. And after that, a number of women have come forward saying that\\'s exactly what he did to them. Now, what was his response? Well, he held a number of big rallies where he said that he could not possibly have done those things to those women because they were not attractive enough for them to be assaulted.In fact, he went on to say...He went on to say, \"Look at her. I don\\'t think so.\" About another woman, he said, \"That wouldn\\'t be my first choice.\" He attacked the woman reporter writing the story, called her \"disgusting,\" as he has called a number of women during this campaign. Donald thinks belittling women makes him bigger. He goes after their dignity, their self-worth, and I don\\'t think there is a woman anywhere who doesn\\'t know what that feels like. So we now know what Donald thinks and what he says and how he acts toward women. That\\'s who Donald is. I think it\\'s really up to all of us to demonstrate who we are and who our country is, and to stand up and be very clear about what we expect from our next president, how we want to bring our country together, where we don\\'t want to have the kind of pitting of people one against the other, where instead we celebrate our diversity, we lift people up, and we make our country even greater. America is great, because America is good. And it really is up to all of us to make that true, now and in the future, and particularly for our children and our grandchildren.He went after Mr. and Mrs. Khan, the parents of a young man who died serving our country, a Gold Star family, because of their religion. He went after John McCain, a prisoner of war, said he prefers \"people who aren\\'t captured.\" He went after a federal judge, born in Indiana, but who Donald said couldn\\'t be trusted to try the fraud and racketeering case against Trump University because his parents were Mexican. So it\\'s not one thing. This is a pattern, a pattern of divisiveness, of a very dark and in many ways dangerous vision of our country, where he incites violence, where he applauds people who are pushing and pulling and punching at his rallies. That is not who America is. And I hope that as we move in the last weeks of this campaign, more and more people will understand what\\'s at stake in this election. It really does come down to what kind of country we are going to have.Well, everything I did as secretary of state was in furtherance of our country\\'s interests and our values. The State Department has said that. I think that\\'s been proven. But I am happy, in fact I\\'m thrilled to talk about the Clinton Foundation, because it is a world¬renowned charity and I am so proud of the work that it does. You know, I could talk for the rest of the debate I know I don\\'t have the time to do that. But just briefly, the Clinton Foundation made it possible for 11 million people around the world with HIV¬AIDS to afford treatment, and that\\'s about half all the people in the world who are getting treatment. In partnership with the American Health Association...... we have made environments in schools healthier for kids, including healthier lunches...Well, it is an open discussion. And you...Well, but there is no but there is no evidence but there is... (CROSSTALK)'"
            ]
          },
          "metadata": {
            "tags": []
          },
          "execution_count": 37
        }
      ]
    },
    {
      "cell_type": "code",
      "metadata": {
        "id": "NDUSWGKN-h2K",
        "colab_type": "code",
        "colab": {}
      },
      "source": [
        "clinton_text = re.sub(\"[^a-zA-Z]+\", ' ', clinton_text)\n",
        "trump_text = re.sub(\"[^a-zA-Z]+\", ' ', trump_text)"
      ],
      "execution_count": 38,
      "outputs": []
    },
    {
      "cell_type": "code",
      "metadata": {
        "id": "R-fcXWqS-iOJ",
        "colab_type": "code",
        "colab": {}
      },
      "source": [
        "from nltk.tokenize import word_tokenize"
      ],
      "execution_count": 39,
      "outputs": []
    },
    {
      "cell_type": "code",
      "metadata": {
        "id": "D8_Zm-dv-iWt",
        "colab_type": "code",
        "colab": {}
      },
      "source": [
        "trump_words = word_tokenize(trump_text)\n",
        "clinton_words = word_tokenize(clinton_text)"
      ],
      "execution_count": 40,
      "outputs": []
    },
    {
      "cell_type": "code",
      "metadata": {
        "id": "O1oyyvV6-iEP",
        "colab_type": "code",
        "colab": {}
      },
      "source": [
        "for word in range(len(trump_words)):\n",
        "  trump_words[word] = trump_words[word].lower()\n",
        "\n",
        "for word in range(len(clinton_words)):\n",
        "  clinton_words[word] = clinton_words[word].lower()"
      ],
      "execution_count": 41,
      "outputs": []
    },
    {
      "cell_type": "code",
      "metadata": {
        "id": "X0XcEXo9-hQ8",
        "colab_type": "code",
        "colab": {}
      },
      "source": [
        "from nltk.corpus import stopwords"
      ],
      "execution_count": 42,
      "outputs": []
    },
    {
      "cell_type": "code",
      "metadata": {
        "id": "bgT15EnsFHxI",
        "colab_type": "code",
        "colab": {}
      },
      "source": [
        "stop_words = stopwords.words('english')"
      ],
      "execution_count": 43,
      "outputs": []
    },
    {
      "cell_type": "code",
      "metadata": {
        "id": "f12s06KFFQL-",
        "colab_type": "code",
        "colab": {}
      },
      "source": [
        "trump_script = [word for word in trump_words if not word in stop_words]\n",
        "clinton_script = [word for word in clinton_words if not word in stop_words]"
      ],
      "execution_count": 44,
      "outputs": []
    },
    {
      "cell_type": "code",
      "metadata": {
        "id": "TkFtIY6_FcWG",
        "colab_type": "code",
        "colab": {
          "base_uri": "https://localhost:8080/",
          "height": 34
        },
        "outputId": "19e789cc-0538-40b1-e084-a1a27261bf79"
      },
      "source": [
        "len(trump_words), len(trump_script)"
      ],
      "execution_count": 45,
      "outputs": [
        {
          "output_type": "execute_result",
          "data": {
            "text/plain": [
              "(3896, 1603)"
            ]
          },
          "metadata": {
            "tags": []
          },
          "execution_count": 45
        }
      ]
    },
    {
      "cell_type": "code",
      "metadata": {
        "id": "ythGvc24Fmn_",
        "colab_type": "code",
        "colab": {
          "base_uri": "https://localhost:8080/",
          "height": 34
        },
        "outputId": "54e0b4a9-7806-4452-dd29-a88ee023a253"
      },
      "source": [
        "len(clinton_words), len(clinton_script)"
      ],
      "execution_count": 46,
      "outputs": [
        {
          "output_type": "execute_result",
          "data": {
            "text/plain": [
              "(4289, 1911)"
            ]
          },
          "metadata": {
            "tags": []
          },
          "execution_count": 46
        }
      ]
    },
    {
      "cell_type": "code",
      "metadata": {
        "id": "NgJqYtI-F1uO",
        "colab_type": "code",
        "colab": {
          "base_uri": "https://localhost:8080/",
          "height": 185
        },
        "outputId": "7f80c615-f85e-45c6-fdb8-4a5f646ec1a9"
      },
      "source": [
        "trump_script[:10]"
      ],
      "execution_count": 47,
      "outputs": [
        {
          "output_type": "execute_result",
          "data": {
            "text/plain": [
              "['well',\n",
              " 'first',\n",
              " 'great',\n",
              " 'thank',\n",
              " 'everybody',\n",
              " 'supreme',\n",
              " 'court',\n",
              " 'country',\n",
              " 'imperative',\n",
              " 'right']"
            ]
          },
          "metadata": {
            "tags": []
          },
          "execution_count": 47
        }
      ]
    },
    {
      "cell_type": "code",
      "metadata": {
        "id": "3bC71xoYIMJr",
        "colab_type": "code",
        "colab": {}
      },
      "source": [
        "from nltk.stem import WordNetLemmatizer"
      ],
      "execution_count": 48,
      "outputs": []
    },
    {
      "cell_type": "code",
      "metadata": {
        "id": "gIqLkpNSmr26",
        "colab_type": "code",
        "colab": {}
      },
      "source": [
        "wl = WordNetLemmatizer()"
      ],
      "execution_count": 49,
      "outputs": []
    },
    {
      "cell_type": "code",
      "metadata": {
        "id": "sVV_UX7vRaig",
        "colab_type": "code",
        "colab": {}
      },
      "source": [
        "for word in range(len(trump_script)):\n",
        "  trump_script[word] = wl.lemmatize(trump_script[word])"
      ],
      "execution_count": 50,
      "outputs": []
    },
    {
      "cell_type": "code",
      "metadata": {
        "id": "4rfGyJEfUU26",
        "colab_type": "code",
        "colab": {}
      },
      "source": [
        "for word in range(len(clinton_script)):\n",
        "  clinton_script[word] = wl.lemmatize(clinton_script[word])"
      ],
      "execution_count": 51,
      "outputs": []
    },
    {
      "cell_type": "code",
      "metadata": {
        "id": "VPXVRGnwSqmH",
        "colab_type": "code",
        "colab": {
          "base_uri": "https://localhost:8080/",
          "height": 185
        },
        "outputId": "08ef1d98-2614-4337-9603-c2a848b382a7"
      },
      "source": [
        "trump_script[:10]"
      ],
      "execution_count": 52,
      "outputs": [
        {
          "output_type": "execute_result",
          "data": {
            "text/plain": [
              "['well',\n",
              " 'first',\n",
              " 'great',\n",
              " 'thank',\n",
              " 'everybody',\n",
              " 'supreme',\n",
              " 'court',\n",
              " 'country',\n",
              " 'imperative',\n",
              " 'right']"
            ]
          },
          "metadata": {
            "tags": []
          },
          "execution_count": 52
        }
      ]
    },
    {
      "cell_type": "code",
      "metadata": {
        "id": "S2N6jTXbSqot",
        "colab_type": "code",
        "colab": {}
      },
      "source": [
        "trump_counter = {}\n",
        "\n",
        "for word in trump_script:\n",
        "  if word not in trump_counter.keys():\n",
        "    trump_counter[word] = 1\n",
        "  else:\n",
        "    trump_counter[word] += 1"
      ],
      "execution_count": 53,
      "outputs": []
    },
    {
      "cell_type": "code",
      "metadata": {
        "id": "XiU2AjQiYPbv",
        "colab_type": "code",
        "colab": {}
      },
      "source": [
        "clinton_counter = {}\n",
        "\n",
        "for word in clinton_script:\n",
        "  if word not in clinton_counter.keys():\n",
        "    clinton_counter[word] = 1\n",
        "  else:\n",
        "    clinton_counter[word] += 1"
      ],
      "execution_count": 54,
      "outputs": []
    },
    {
      "cell_type": "code",
      "metadata": {
        "id": "Zh9wuDNqWGSe",
        "colab_type": "code",
        "colab": {}
      },
      "source": [
        "from heapq import nlargest"
      ],
      "execution_count": 57,
      "outputs": []
    },
    {
      "cell_type": "code",
      "metadata": {
        "id": "u3xG1TD8W-yh",
        "colab_type": "code",
        "colab": {}
      },
      "source": [
        "trump_word_freq = nlargest(20, trump_counter, key=trump_counter.get)\n",
        "clinton_word_freq = nlargest(20, clinton_counter, key=clinton_counter.get)"
      ],
      "execution_count": 86,
      "outputs": []
    },
    {
      "cell_type": "code",
      "metadata": {
        "id": "WtfsqJgxYwE1",
        "colab_type": "code",
        "colab": {
          "base_uri": "https://localhost:8080/",
          "height": 353
        },
        "outputId": "92e4eb4a-683a-46e5-be5c-5a1a666a81cf"
      },
      "source": [
        "trump_word_freq"
      ],
      "execution_count": 87,
      "outputs": [
        {
          "output_type": "execute_result",
          "data": {
            "text/plain": [
              "['people',\n",
              " 'country',\n",
              " 'border',\n",
              " 'many',\n",
              " 'hillary',\n",
              " 'putin',\n",
              " 'justice',\n",
              " 'amendment',\n",
              " 'believe',\n",
              " 'job',\n",
              " 'obama',\n",
              " 'bad',\n",
              " 'deal',\n",
              " 'great',\n",
              " 'second',\n",
              " 'state',\n",
              " 'year',\n",
              " 'thing',\n",
              " 'happened',\n",
              " 'million']"
            ]
          },
          "metadata": {
            "tags": []
          },
          "execution_count": 87
        }
      ]
    },
    {
      "cell_type": "code",
      "metadata": {
        "id": "jdOZdas5Ydzy",
        "colab_type": "code",
        "colab": {}
      },
      "source": [
        "import matplotlib.pyplot as plt\n"
      ],
      "execution_count": 88,
      "outputs": []
    },
    {
      "cell_type": "code",
      "metadata": {
        "id": "LMJMvn2EY8io",
        "colab_type": "code",
        "colab": {}
      },
      "source": [
        "trump_top_words = []\n",
        "\n",
        "for word in trump_word_freq:\n",
        "  trump_top_words.append(trump_counter[word])"
      ],
      "execution_count": 89,
      "outputs": []
    },
    {
      "cell_type": "code",
      "metadata": {
        "id": "PT2MJSjXZqrH",
        "colab_type": "code",
        "colab": {}
      },
      "source": [
        "clinton_top_words = []\n",
        "\n",
        "for word in clinton_word_freq:\n",
        "  clinton_top_words.append(clinton_counter[word])"
      ],
      "execution_count": 90,
      "outputs": []
    },
    {
      "cell_type": "code",
      "metadata": {
        "id": "Ns9zEZEqbLsc",
        "colab_type": "code",
        "colab": {}
      },
      "source": [
        "import plotly.express as px"
      ],
      "execution_count": 67,
      "outputs": []
    },
    {
      "cell_type": "code",
      "metadata": {
        "id": "4jdW9FPRgExE",
        "colab_type": "code",
        "colab": {
          "base_uri": "https://localhost:8080/",
          "height": 483
        },
        "outputId": "05089c67-e49f-486f-ff4d-9be56ad8c8ec"
      },
      "source": [
        "plt.figure(figsize=(20,8))\n",
        "plt.bar(trump_word_freq, trump_top_words)\n",
        "plt.show()"
      ],
      "execution_count": 111,
      "outputs": [
        {
          "output_type": "display_data",
          "data": {
            "image/png": "[encoded data removed]",
            "text/plain": [
              "<Figure size 1440x576 with 1 Axes>"
            ]
          },
          "metadata": {
            "tags": [],
            "needs_background": "light"
          }
        }
      ]
    },
    {
      "cell_type": "code",
      "metadata": {
        "id": "_-VCceLuY_q2",
        "colab_type": "code",
        "colab": {
          "base_uri": "https://localhost:8080/",
          "height": 483
        },
        "outputId": "c1095769-7cb4-4869-9a66-7a258125f383"
      },
      "source": [
        "plt.figure(figsize=(20,8))\n",
        "plt.bar(clinton_word_freq, clinton_top_words)\n",
        "plt.show()"
      ],
      "execution_count": 112,
      "outputs": [
        {
          "output_type": "display_data",
          "data": {
            "image/png": "[encoded data removed]",
            "text/plain": [
              "<Figure size 1440x576 with 1 Axes>"
            ]
          },
          "metadata": {
            "tags": [],
            "needs_background": "light"
          }
        }
      ]
    },
    {
      "cell_type": "code",
      "metadata": {
        "id": "V8PSxRlZeJMi",
        "colab_type": "code",
        "colab": {}
      },
      "source": [
        ""
      ],
      "execution_count": null,
      "outputs": []
    },
    {
      "cell_type": "code",
      "metadata": {
        "id": "eADzzmfneJSZ",
        "colab_type": "code",
        "colab": {}
      },
      "source": [
        ""
      ],
      "execution_count": null,
      "outputs": []
    },
    {
      "cell_type": "code",
      "metadata": {
        "id": "w2QdQ2v7eJPw",
        "colab_type": "code",
        "colab": {}
      },
      "source": [
        ""
      ],
      "execution_count": null,
      "outputs": []
    },
    {
      "cell_type": "code",
      "metadata": {
        "id": "zT1kLgtreJJl",
        "colab_type": "code",
        "colab": {}
      },
      "source": [
        ""
      ],
      "execution_count": null,
      "outputs": []
    }
  ]
}