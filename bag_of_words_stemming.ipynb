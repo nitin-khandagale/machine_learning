{
  "nbformat": 4,
  "nbformat_minor": 0,
  "metadata": {
    "colab": {
      "name": "Untitled20.ipynb",
      "provenance": [],
      "authorship_tag": "ABX9TyOR7Qu02s7v4O/tKKvKQMW9",
      "include_colab_link": true
    },
    "kernelspec": {
      "name": "python3",
      "display_name": "Python 3"
    }
  },
  "cells": [
    {
      "cell_type": "markdown",
      "metadata": {
        "id": "view-in-github",
        "colab_type": "text"
      },
      "source": [
        "<a href=\"https://colab.research.google.com/github/nitin-khandagale/machine_learning_practice/blob/master/bag_of_words_stemming.ipynb\" target=\"_parent\"><img src=\"https://colab.research.google.com/assets/colab-badge.svg\" alt=\"Open In Colab\"/></a>"
      ]
    },
    {
      "cell_type": "code",
      "metadata": {
        "id": "QZ4EMQWunYK_",
        "colab_type": "code",
        "colab": {}
      },
      "source": [
        "import requests\n",
        "from bs4 import BeautifulSoup\n",
        "import matplotlib.pyplot as plt\n",
        "import plotly.express as px\n",
        "import re"
      ],
      "execution_count": 42,
      "outputs": []
    },
    {
      "cell_type": "code",
      "metadata": {
        "id": "WumQDimJnnWv",
        "colab_type": "code",
        "colab": {}
      },
      "source": [
        "link = \"https://www.hopefully.live/post/catboost-vs-xgboost-credit-risk-calculation\""
      ],
      "execution_count": 2,
      "outputs": []
    },
    {
      "cell_type": "code",
      "metadata": {
        "id": "rx8o8lRjnnTF",
        "colab_type": "code",
        "colab": {}
      },
      "source": [
        "parse = requests.get(link)"
      ],
      "execution_count": 3,
      "outputs": []
    },
    {
      "cell_type": "code",
      "metadata": {
        "id": "O3d89BdUnnQ4",
        "colab_type": "code",
        "colab": {}
      },
      "source": [
        "soup = BeautifulSoup(parse.content)"
      ],
      "execution_count": 5,
      "outputs": []
    },
    {
      "cell_type": "code",
      "metadata": {
        "id": "BP677MjcnnNk",
        "colab_type": "code",
        "colab": {}
      },
      "source": [
        "body = soup.find_all('p')"
      ],
      "execution_count": 21,
      "outputs": []
    },
    {
      "cell_type": "code",
      "metadata": {
        "id": "4oSGuyrqnnLj",
        "colab_type": "code",
        "colab": {
          "base_uri": "https://localhost:8080/",
          "height": 34
        },
        "outputId": "c56b9b93-3878-434e-e3d1-791c758f3270"
      },
      "source": [
        "len(body)"
      ],
      "execution_count": 27,
      "outputs": [
        {
          "output_type": "execute_result",
          "data": {
            "text/plain": [
              "17"
            ]
          },
          "metadata": {
            "tags": []
          },
          "execution_count": 27
        }
      ]
    },
    {
      "cell_type": "code",
      "metadata": {
        "id": "CDUhFRh4nnHs",
        "colab_type": "code",
        "colab": {}
      },
      "source": [
        "data = []\n",
        "\n",
        "for p in body:\n",
        "  data.append(p.get_text())"
      ],
      "execution_count": 120,
      "outputs": []
    },
    {
      "cell_type": "code",
      "metadata": {
        "id": "6x0OP6DKnnEh",
        "colab_type": "code",
        "colab": {
          "base_uri": "https://localhost:8080/",
          "height": 322
        },
        "outputId": "fcb44058-76f3-4e41-a56a-c0f587a24267"
      },
      "source": [
        "data"
      ],
      "execution_count": 121,
      "outputs": [
        {
          "output_type": "execute_result",
          "data": {
            "text/plain": [
              "['Updated: Jun 26',\n",
              " 'Catboost and XGBoost are the two titans of gradient boosting technique. Today we will be using German credit risk dataset from kaggle to compare the performance of these two. We also will be using GridSearchCV to tune the parameters to get the best out of them. You can download the file straight up from here',\n",
              " 'Lets import the necessary modules and read the file.',\n",
              " 'have closer look at our database',\n",
              " 'Lets split our data into training and testing sets. We could have cleaned missing values first before splitting but that would be easy task to our model to understand the output. We will split the data first then encode it separately .',\n",
              " 'Now that our data is separated, x_train and y_train is filled with categorical columns and missing data. We will use Target Encoding to get rid of these missing data and categorical features at once. Lets get all the categorical columns we have first.',\n",
              " 'Lets encode the categorical columns',\n",
              " 'Now we join the these encoded columns and remove original encoded columns',\n",
              " 'Lets have a look at our training and testing set.',\n",
              " 'We will be performing modeling on two algorithms using GridSearchCV. Lets define the function to make out task easier and in less code.',\n",
              " 'As defined, our function returns model accuracy with mean_absolute_error , rmse, mean_squared_error. Lets use this.',\n",
              " \"We got 73% accuracy with XGBoost using GridSearchCV . but we also got RMSE 0.51, MSE  and MAE are 0.26. Also we used minimum parameters for tuning here for example. You can use more parameters to boost the model further. Let's try CatBoost now\",\n",
              " 'CatBoost performed slightly better than XGBoost in this case. i also tried RandomForestClassiefier() and i got again better performance like 0.76%.  Share this if you find this helpful and if you have any suggestions do not forget to reach me using details at the bottom. You can also leave the message by filling form at the bottom of this page. Thank you.',\n",
              " 'You can find above code in my Github repository',\n",
              " '',\n",
              " '',\n",
              " 'Thanks for submitting!']"
            ]
          },
          "metadata": {
            "tags": []
          },
          "execution_count": 121
        }
      ]
    },
    {
      "cell_type": "code",
      "metadata": {
        "id": "8gjVni-evEN9",
        "colab_type": "code",
        "colab": {
          "base_uri": "https://localhost:8080/",
          "height": 34
        },
        "outputId": "f90c01c7-28c0-4794-bbc3-41621b72d5cf"
      },
      "source": [
        "len(data)"
      ],
      "execution_count": 122,
      "outputs": [
        {
          "output_type": "execute_result",
          "data": {
            "text/plain": [
              "17"
            ]
          },
          "metadata": {
            "tags": []
          },
          "execution_count": 122
        }
      ]
    },
    {
      "cell_type": "code",
      "metadata": {
        "id": "873UZtfuui5s",
        "colab_type": "code",
        "colab": {}
      },
      "source": [
        "for line in range(len(data)):\n",
        "  data[line] = re.sub(\"\\d\", '', data[line])"
      ],
      "execution_count": 123,
      "outputs": []
    },
    {
      "cell_type": "code",
      "metadata": {
        "id": "HMPW7VZRnnBV",
        "colab_type": "code",
        "colab": {
          "base_uri": "https://localhost:8080/",
          "height": 120
        },
        "outputId": "46c94d49-db47-4d57-b1cd-bee29706cfd6"
      },
      "source": [
        "data = ''.join(data)\n",
        "data"
      ],
      "execution_count": 124,
      "outputs": [
        {
          "output_type": "execute_result",
          "data": {
            "application/vnd.google.colaboratory.intrinsic+json": {
              "type": "string"
            },
            "text/plain": [
              "\"Updated: Jun Catboost and XGBoost are the two titans of gradient boosting technique. Today we will be using German credit risk dataset from kaggle to compare the performance of these two. We also will be using GridSearchCV to tune the parameters to get the best out of them. You can download the file straight up from hereLets import the necessary modules and read the file.have closer look at our databaseLets split our data into training and testing sets. We could have cleaned missing values first before splitting but that would be easy task to our model to understand the output. We will split the data first then encode it separately .Now that our data is separated, x_train and y_train is filled with categorical columns and missing data. We will use Target Encoding to get rid of these missing data and categorical features at once. Lets get all the categorical columns we have first.Lets encode the categorical columnsNow we join the these encoded columns and remove original encoded columnsLets have a look at our training and testing set.We will be performing modeling on two algorithms using GridSearchCV. Lets define the function to make out task easier and in less code.As defined, our function returns model accuracy with mean_absolute_error , rmse, mean_squared_error. Lets use this.We got % accuracy with XGBoost using GridSearchCV . but we also got RMSE ., MSE  and MAE are .. Also we used minimum parameters for tuning here for example. You can use more parameters to boost the model further. Let's try CatBoost nowCatBoost performed slightly better than XGBoost in this case. i also tried RandomForestClassiefier() and i got again better performance like .%.  Share this if you find this helpful and if you have any suggestions do not forget to reach me using details at the bottom. You can also leave the message by filling form at the bottom of this page. Thank you.You can find above code in my Github repositoryThanks for submitting!\""
            ]
          },
          "metadata": {
            "tags": []
          },
          "execution_count": 124
        }
      ]
    },
    {
      "cell_type": "code",
      "metadata": {
        "id": "NfonbFFPrg47",
        "colab_type": "code",
        "colab": {
          "base_uri": "https://localhost:8080/",
          "height": 34
        },
        "outputId": "f38f8b39-11d9-46b2-a4d4-25d21a6b53af"
      },
      "source": [
        "len(data)"
      ],
      "execution_count": 125,
      "outputs": [
        {
          "output_type": "execute_result",
          "data": {
            "text/plain": [
              "1957"
            ]
          },
          "metadata": {
            "tags": []
          },
          "execution_count": 125
        }
      ]
    },
    {
      "cell_type": "code",
      "metadata": {
        "id": "3wSm_7HPnm-Q",
        "colab_type": "code",
        "colab": {}
      },
      "source": [
        "data_without_symbols = re.sub(\"\\W+\", ' ', data)"
      ],
      "execution_count": 126,
      "outputs": []
    },
    {
      "cell_type": "code",
      "metadata": {
        "id": "ua2LpaT7nm7L",
        "colab_type": "code",
        "colab": {
          "base_uri": "https://localhost:8080/",
          "height": 120
        },
        "outputId": "d8b9f3c9-9aca-4134-d35b-c8c003a4d9f5"
      },
      "source": [
        "data_without_symbols"
      ],
      "execution_count": 129,
      "outputs": [
        {
          "output_type": "execute_result",
          "data": {
            "application/vnd.google.colaboratory.intrinsic+json": {
              "type": "string"
            },
            "text/plain": [
              "'updated jun catboost and xgboost are the two titans of gradient boosting technique today we will be using german credit risk dataset from kaggle to compare the performance of these two we also will be using gridsearchcv to tune the parameters to get the best out of them you can download the file straight up from herelets import the necessary modules and read the file have closer look at our databaselets split our data into training and testing sets we could have cleaned missing values first before splitting but that would be easy task to our model to understand the output we will split the data first then encode it separately now that our data is separated x_train and y_train is filled with categorical columns and missing data we will use target encoding to get rid of these missing data and categorical features at once lets get all the categorical columns we have first lets encode the categorical columnsnow we join the these encoded columns and remove original encoded columnslets have a look at our training and testing set we will be performing modeling on two algorithms using gridsearchcv lets define the function to make out task easier and in less code as defined our function returns model accuracy with mean_absolute_error rmse mean_squared_error lets use this we got accuracy with xgboost using gridsearchcv but we also got rmse mse and mae are also we used minimum parameters for tuning here for example you can use more parameters to boost the model further let s try catboost nowcatboost performed slightly better than xgboost in this case i also tried randomforestclassiefier and i got again better performance like share this if you find this helpful and if you have any suggestions do not forget to reach me using details at the bottom you can also leave the message by filling form at the bottom of this page thank you you can find above code in my github repositorythanks for submitting '"
            ]
          },
          "metadata": {
            "tags": []
          },
          "execution_count": 129
        }
      ]
    },
    {
      "cell_type": "code",
      "metadata": {
        "id": "PPQ2mcKLvkJg",
        "colab_type": "code",
        "colab": {
          "base_uri": "https://localhost:8080/",
          "height": 34
        },
        "outputId": "d740b880-a225-41f2-bd1e-589357fa7c65"
      },
      "source": [
        "len(data_without_symbols)"
      ],
      "execution_count": 128,
      "outputs": [
        {
          "output_type": "execute_result",
          "data": {
            "text/plain": [
              "1918"
            ]
          },
          "metadata": {
            "tags": []
          },
          "execution_count": 128
        }
      ]
    },
    {
      "cell_type": "code",
      "metadata": {
        "id": "fkXJ40OAvuKp",
        "colab_type": "code",
        "colab": {}
      },
      "source": [
        "from nltk.corpus import stopwords\n",
        "from nltk.tokenize import word_tokenize"
      ],
      "execution_count": 134,
      "outputs": []
    },
    {
      "cell_type": "code",
      "metadata": {
        "id": "a9ajSpw4wUgF",
        "colab_type": "code",
        "colab": {
          "base_uri": "https://localhost:8080/",
          "height": 185
        },
        "outputId": "fad002df-31ee-4a73-d363-758227feb275"
      },
      "source": [
        "words = word_tokenize(data_without_symbols.lower())\n",
        "words[:10]"
      ],
      "execution_count": 140,
      "outputs": [
        {
          "output_type": "execute_result",
          "data": {
            "text/plain": [
              "['updated',\n",
              " 'jun',\n",
              " 'catboost',\n",
              " 'and',\n",
              " 'xgboost',\n",
              " 'are',\n",
              " 'the',\n",
              " 'two',\n",
              " 'titans',\n",
              " 'of']"
            ]
          },
          "metadata": {
            "tags": []
          },
          "execution_count": 140
        }
      ]
    },
    {
      "cell_type": "code",
      "metadata": {
        "id": "Dx-OAI_dw0GJ",
        "colab_type": "code",
        "colab": {
          "base_uri": "https://localhost:8080/",
          "height": 34
        },
        "outputId": "926a2053-3319-48fd-9cba-8f0c96d75b33"
      },
      "source": [
        "len(words)"
      ],
      "execution_count": 143,
      "outputs": [
        {
          "output_type": "execute_result",
          "data": {
            "text/plain": [
              "328"
            ]
          },
          "metadata": {
            "tags": []
          },
          "execution_count": 143
        }
      ]
    },
    {
      "cell_type": "code",
      "metadata": {
        "id": "OAqEect0vuQo",
        "colab_type": "code",
        "colab": {}
      },
      "source": [
        "stop_words = stopwords.words('english')"
      ],
      "execution_count": 133,
      "outputs": []
    },
    {
      "cell_type": "code",
      "metadata": {
        "id": "227TLHB_wIe9",
        "colab_type": "code",
        "colab": {
          "base_uri": "https://localhost:8080/",
          "height": 185
        },
        "outputId": "a94629bd-43c0-4bb4-9bc8-a889ed166dfd"
      },
      "source": [
        "data_without_sw = [word for word in words if not word in stop_words]\n",
        "data_without_sw[:10]"
      ],
      "execution_count": 145,
      "outputs": [
        {
          "output_type": "execute_result",
          "data": {
            "text/plain": [
              "['updated',\n",
              " 'jun',\n",
              " 'catboost',\n",
              " 'xgboost',\n",
              " 'two',\n",
              " 'titans',\n",
              " 'gradient',\n",
              " 'boosting',\n",
              " 'technique',\n",
              " 'today']"
            ]
          },
          "metadata": {
            "tags": []
          },
          "execution_count": 145
        }
      ]
    },
    {
      "cell_type": "code",
      "metadata": {
        "id": "N1KUYBatw-X2",
        "colab_type": "code",
        "colab": {
          "base_uri": "https://localhost:8080/",
          "height": 34
        },
        "outputId": "1edb8cee-b1b4-4ab7-8bc0-2327fed30cf8"
      },
      "source": [
        "len(data_without_sw)"
      ],
      "execution_count": 146,
      "outputs": [
        {
          "output_type": "execute_result",
          "data": {
            "text/plain": [
              "180"
            ]
          },
          "metadata": {
            "tags": []
          },
          "execution_count": 146
        }
      ]
    },
    {
      "cell_type": "code",
      "metadata": {
        "id": "nHBndJg-vuTw",
        "colab_type": "code",
        "colab": {}
      },
      "source": [
        "from nltk.stem import PorterStemmer"
      ],
      "execution_count": 162,
      "outputs": []
    },
    {
      "cell_type": "code",
      "metadata": {
        "id": "WNSgrn8bvuOI",
        "colab_type": "code",
        "colab": {}
      },
      "source": [
        "porter = PorterStemmer()"
      ],
      "execution_count": 163,
      "outputs": []
    },
    {
      "cell_type": "code",
      "metadata": {
        "id": "ma4_Y8m-vuHq",
        "colab_type": "code",
        "colab": {}
      },
      "source": [
        "stem_words = []\n",
        "\n",
        "for word in data_without_sw:\n",
        "  stem_words.append(porter.stem(word))"
      ],
      "execution_count": 168,
      "outputs": []
    },
    {
      "cell_type": "code",
      "metadata": {
        "id": "xRbI_3Lzzk2w",
        "colab_type": "code",
        "colab": {
          "base_uri": "https://localhost:8080/",
          "height": 34
        },
        "outputId": "2d6737cb-80c3-4c9c-8bd2-a83cb0502458"
      },
      "source": [
        "len(stem_words)"
      ],
      "execution_count": 171,
      "outputs": [
        {
          "output_type": "execute_result",
          "data": {
            "text/plain": [
              "180"
            ]
          },
          "metadata": {
            "tags": []
          },
          "execution_count": 171
        }
      ]
    },
    {
      "cell_type": "code",
      "metadata": {
        "id": "fyIF0NjVzm9l",
        "colab_type": "code",
        "colab": {
          "base_uri": "https://localhost:8080/",
          "height": 185
        },
        "outputId": "083ca789-877d-4618-d4c1-4ad4bcf375f8"
      },
      "source": [
        "stem_words[:10]"
      ],
      "execution_count": 177,
      "outputs": [
        {
          "output_type": "execute_result",
          "data": {
            "text/plain": [
              "['updat',\n",
              " 'jun',\n",
              " 'catboost',\n",
              " 'xgboost',\n",
              " 'two',\n",
              " 'titan',\n",
              " 'gradient',\n",
              " 'boost',\n",
              " 'techniqu',\n",
              " 'today']"
            ]
          },
          "metadata": {
            "tags": []
          },
          "execution_count": 177
        }
      ]
    },
    {
      "cell_type": "code",
      "metadata": {
        "id": "AOz7KvE403dR",
        "colab_type": "code",
        "colab": {}
      },
      "source": [
        "counts = {}\n",
        "\n",
        "for word in stem_words:\n",
        "  if word not in counts.keys():\n",
        "    counts[word] = 1\n",
        "  else:\n",
        "    counts[word] += 1"
      ],
      "execution_count": 188,
      "outputs": []
    },
    {
      "cell_type": "code",
      "metadata": {
        "id": "SHCyZKa28XnV",
        "colab_type": "code",
        "colab": {}
      },
      "source": [
        "x = list(counts.keys())\n",
        "y = list(counts.values())"
      ],
      "execution_count": 200,
      "outputs": []
    },
    {
      "cell_type": "code",
      "metadata": {
        "id": "7X4N6d0I5RST",
        "colab_type": "code",
        "colab": {}
      },
      "source": [
        "import heapq\n",
        "\n",
        "top = heapq.nlargest(10, counts, key = counts.get)"
      ],
      "execution_count": 208,
      "outputs": []
    },
    {
      "cell_type": "code",
      "metadata": {
        "id": "bdXurpbY5SbH",
        "colab_type": "code",
        "colab": {}
      },
      "source": [
        "top_count = []\n",
        "\n",
        "for t in top:\n",
        "  top_count.append(counts[t])"
      ],
      "execution_count": 209,
      "outputs": []
    },
    {
      "cell_type": "code",
      "metadata": {
        "id": "vqTkl_JC9DCL",
        "colab_type": "code",
        "colab": {
          "base_uri": "https://localhost:8080/",
          "height": 34
        },
        "outputId": "c2aa574c-521b-495e-a060-f10333cc1b55"
      },
      "source": [
        "top_count"
      ],
      "execution_count": 210,
      "outputs": [
        {
          "output_type": "execute_result",
          "data": {
            "text/plain": [
              "[9, 5, 5, 5, 5, 4, 4, 4, 3, 3]"
            ]
          },
          "metadata": {
            "tags": []
          },
          "execution_count": 210
        }
      ]
    },
    {
      "cell_type": "code",
      "metadata": {
        "id": "LbCDTRMu9U_q",
        "colab_type": "code",
        "colab": {
          "base_uri": "https://localhost:8080/",
          "height": 483
        },
        "outputId": "091f325f-d088-4b86-d5e6-8509d84214c4"
      },
      "source": [
        "plt.figure(figsize=(24,8))\n",
        "\n",
        "plt.bar(top, top_count)\n",
        "plt.show()\n"
      ],
      "execution_count": 212,
      "outputs": [
        {
          "output_type": "display_data",
          "data": {
            "image/png": "[encoded data removed]",
            "text/plain": [
              "<Figure size 1728x576 with 1 Axes>"
            ]
          },
          "metadata": {
            "tags": [],
            "needs_background": "light"
          }
        }
      ]
    },
    {
      "cell_type": "code",
      "metadata": {
        "id": "0I6zm3-j9vPn",
        "colab_type": "code",
        "colab": {}
      },
      "source": [
        ""
      ],
      "execution_count": null,
      "outputs": []
    }
  ]
}