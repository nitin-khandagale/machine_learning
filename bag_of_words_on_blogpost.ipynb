{
  "nbformat": 4,
  "nbformat_minor": 0,
  "metadata": {
    "colab": {
      "name": "bag_of_words",
      "provenance": [],
      "collapsed_sections": [],
      "authorship_tag": "ABX9TyPPS6zuwz7ueLpBl+xYjBRs",
      "include_colab_link": true
    },
    "kernelspec": {
      "name": "python3",
      "display_name": "Python 3"
    }
  },
  "cells": [
    {
      "cell_type": "markdown",
      "metadata": {
        "id": "view-in-github",
        "colab_type": "text"
      },
      "source": [
        "<a href=\"https://colab.research.google.com/github/nitin-khandagale/machine_learning_practice/blob/master/bag_of_words_on_blogpost.ipynb\" target=\"_parent\"><img src=\"https://colab.research.google.com/assets/colab-badge.svg\" alt=\"Open In Colab\"/></a>"
      ]
    },
    {
      "cell_type": "code",
      "metadata": {
        "id": "0iHVJSJ5Fw7e",
        "colab_type": "code",
        "colab": {}
      },
      "source": [
        "from bs4 import BeautifulSoup\n",
        "import re"
      ],
      "execution_count": 2,
      "outputs": []
    },
    {
      "cell_type": "code",
      "metadata": {
        "id": "uxYTgujsHCrj",
        "colab_type": "code",
        "colab": {}
      },
      "source": [
        "link = \"https://www.hopefully.live/post/data-analysis-of-campus-placement-data\""
      ],
      "execution_count": 3,
      "outputs": []
    },
    {
      "cell_type": "code",
      "metadata": {
        "id": "UhBj7ArGHSx9",
        "colab_type": "code",
        "colab": {}
      },
      "source": [
        "import requests"
      ],
      "execution_count": 4,
      "outputs": []
    },
    {
      "cell_type": "code",
      "metadata": {
        "id": "oEtnytkFUoVC",
        "colab_type": "code",
        "colab": {}
      },
      "source": [
        "urlc = requests.get(link)"
      ],
      "execution_count": 5,
      "outputs": []
    },
    {
      "cell_type": "code",
      "metadata": {
        "id": "og4PohZfUoRx",
        "colab_type": "code",
        "colab": {}
      },
      "source": [
        "soup = BeautifulSoup(urlc.content, 'html5')"
      ],
      "execution_count": 6,
      "outputs": []
    },
    {
      "cell_type": "code",
      "metadata": {
        "id": "O4zZoQagUoPG",
        "colab_type": "code",
        "colab": {}
      },
      "source": [
        "div = soup.find_all('p')"
      ],
      "execution_count": 7,
      "outputs": []
    },
    {
      "cell_type": "code",
      "metadata": {
        "id": "lgcklMeBUoMh",
        "colab_type": "code",
        "colab": {}
      },
      "source": [
        "para_data = []\n",
        "\n",
        "for p in range(len(div)):\n",
        "  para_data.append(div[p].get_text())"
      ],
      "execution_count": 8,
      "outputs": []
    },
    {
      "cell_type": "code",
      "metadata": {
        "id": "tX1an11LUoJ0",
        "colab_type": "code",
        "colab": {
          "base_uri": "https://localhost:8080/",
          "height": 120
        },
        "outputId": "4c43de7b-1fa4-4f9f-c22e-ea90e29b3986"
      },
      "source": [
        "new_data = ''.join(para_data)\n",
        "new_data"
      ],
      "execution_count": 11,
      "outputs": [
        {
          "output_type": "execute_result",
          "data": {
            "application/vnd.google.colaboratory.intrinsic+json": {
              "type": "string"
            },
            "text/plain": [
              "\"Data Analysis is nothing but the telling a story through data. I am going to extract some useful information from campus placement data.You can download the data from here.I also tried answering questions asked on this data from kaggle. let's find out answers to these questionsWhich factor influenced a candidate in getting placed?Does percentage matters for one to get placed?Which degree specialization is much demanded by corporate?Play with the data conducting all statistical tests.I will first Explore the data through some charts then will get back to these questions.Lets have look at our dataStatus is target variable here which depends upon other independent feature. First column contains the genders of the candidates. Lets see the distribution of genders.Data has two Genders Males and Females out of which, more than 67% are males and 35% are female. But what is the distribution of Gender with respect to Placement Status ?The percentage of placement among males and females. Percentage of placed males is more than double of Non Placed and placed female candidates while Percentage of placed females is slightly less than double of Non Placed females candidates.All the candidates categorized according to stream they have chosen in Higher Secondary class. Lets see which stream placed highest number of candidates.Commerce and Science streams dominates this chart. Arts has lowest number of placements. This data helps Different departments to work on things which can give their stream better placements.Let's see the same distribution on degree college.Comm&Mgmt streamers placed in large numbers. This data reflects same patterns as Higher Secondary distribution as Commerce stream dominates in both.Data also has score percentages of different classes. Lets see the average percentage of placed candidates and non placed candidates.SSC class has the highest difference between average scores followed by HSC , degree and MBA percentage. There not much difference between average marks of placed and non placed candidates in MBA class which implies that placements aren't solely depends on marks but the other factors as well.Big chunk of our candidates has same previous experience. Lets see if that helps them in placements.Oddly it seems that previous experience of candidates isn't that affecting the their placements as more number non experienced candidates are placed than experienced one.Other than all these, does extra specialization matter in placements ? lets seeSkills in Marketing and finance does matter it seems.  More candidates of Mkt&Fin are placed than Mkt&HR.This information will help the institutions to work on their not so good fields. Many educational institutes performs such kind of analysis now days.Let's get back the questions and answer them one by one.1. Which factor influenced a candidate in getting placed?     Using RandomForestClassifier one can get most important features which affect the results by feature_importances_  method. Lets see what i found in our data.ssc_p is affecting the placement status the most. So, Answer is SSC marks helps candidates to get placements.2. Does percentage matters for one to get placed ?One can perform few pandas operations to get this answer but answer to the previous question answers this question too in disguise. If look closely, most important features which affects the result are all related to the percentage of different classes. Answer is Yes !3. Which degree specialization is much demanded by corporate ?I This question is already answered above where 'Placement by Specialization' chart is  showed. Lets have a lookAnswer is Mkt&Fin degree specialization is more demanded !I did this analysis using python and Plotly. You can get code of above practice hereDo share your suggestion through any one of the ways mentioned at the bottom of the page.Thank you.Thanks for submitting!\""
            ]
          },
          "metadata": {
            "tags": []
          },
          "execution_count": 11
        }
      ]
    },
    {
      "cell_type": "code",
      "metadata": {
        "id": "rRtxlHuXZzyl",
        "colab_type": "code",
        "colab": {}
      },
      "source": [
        "new_data = re.sub('\\W+', ' ', new_data)\n",
        "new_data = re.sub('\\d+', ' ', new_data)"
      ],
      "execution_count": 12,
      "outputs": []
    },
    {
      "cell_type": "code",
      "metadata": {
        "id": "8wS7dzcfUoHK",
        "colab_type": "code",
        "colab": {}
      },
      "source": [
        "from nltk.tokenize import word_tokenize"
      ],
      "execution_count": 13,
      "outputs": []
    },
    {
      "cell_type": "code",
      "metadata": {
        "id": "EtjqC13UZM6o",
        "colab_type": "code",
        "colab": {
          "base_uri": "https://localhost:8080/",
          "height": 101
        },
        "outputId": "37acfce3-4dcd-4d80-8746-d1170bfbafa4"
      },
      "source": [
        "import nltk\n",
        "nltk.download('punkt')\n",
        "nltk.download('stopwords')"
      ],
      "execution_count": 14,
      "outputs": [
        {
          "output_type": "stream",
          "text": [
            "[nltk_data] Downloading package punkt to /root/nltk_data...\n",
            "[nltk_data]   Unzipping tokenizers/punkt.zip.\n",
            "[nltk_data] Downloading package stopwords to /root/nltk_data...\n",
            "[nltk_data]   Unzipping corpora/stopwords.zip.\n"
          ],
          "name": "stdout"
        },
        {
          "output_type": "execute_result",
          "data": {
            "text/plain": [
              "True"
            ]
          },
          "metadata": {
            "tags": []
          },
          "execution_count": 14
        }
      ]
    },
    {
      "cell_type": "code",
      "metadata": {
        "id": "wagMAXBvUoEK",
        "colab_type": "code",
        "colab": {}
      },
      "source": [
        "words = word_tokenize(new_data)"
      ],
      "execution_count": 16,
      "outputs": []
    },
    {
      "cell_type": "code",
      "metadata": {
        "id": "m9R1PX3p1isw",
        "colab_type": "code",
        "colab": {}
      },
      "source": [
        "words = [word.lower() for word in words]"
      ],
      "execution_count": 49,
      "outputs": []
    },
    {
      "cell_type": "code",
      "metadata": {
        "id": "bSJtaWeDUn7E",
        "colab_type": "code",
        "colab": {
          "base_uri": "https://localhost:8080/",
          "height": 185
        },
        "outputId": "53c534c5-eb7c-428e-aa3f-e83fc6809a92"
      },
      "source": [
        "words[:10]"
      ],
      "execution_count": 50,
      "outputs": [
        {
          "output_type": "execute_result",
          "data": {
            "text/plain": [
              "['data',\n",
              " 'analysis',\n",
              " 'is',\n",
              " 'nothing',\n",
              " 'but',\n",
              " 'the',\n",
              " 'telling',\n",
              " 'a',\n",
              " 'story',\n",
              " 'through']"
            ]
          },
          "metadata": {
            "tags": []
          },
          "execution_count": 50
        }
      ]
    },
    {
      "cell_type": "code",
      "metadata": {
        "id": "ibTKf8BFbXX6",
        "colab_type": "code",
        "colab": {
          "base_uri": "https://localhost:8080/",
          "height": 34
        },
        "outputId": "aeb93785-7341-456d-ae6d-3e1c13f47721"
      },
      "source": [
        "len(words)"
      ],
      "execution_count": 51,
      "outputs": [
        {
          "output_type": "execute_result",
          "data": {
            "text/plain": [
              "625"
            ]
          },
          "metadata": {
            "tags": []
          },
          "execution_count": 51
        }
      ]
    },
    {
      "cell_type": "code",
      "metadata": {
        "id": "8CHQXNvhUn3_",
        "colab_type": "code",
        "colab": {}
      },
      "source": [
        "from nltk.corpus import stopwords\n",
        "import collections"
      ],
      "execution_count": 36,
      "outputs": []
    },
    {
      "cell_type": "code",
      "metadata": {
        "id": "INlmqf4UUn1M",
        "colab_type": "code",
        "colab": {}
      },
      "source": [
        "stop_words = stopwords.words('english')"
      ],
      "execution_count": 52,
      "outputs": []
    },
    {
      "cell_type": "code",
      "metadata": {
        "id": "ePMapgLhhf3O",
        "colab_type": "code",
        "colab": {}
      },
      "source": [
        "cleaned_words = [word for word in words if not word in stop_words]"
      ],
      "execution_count": 53,
      "outputs": []
    },
    {
      "cell_type": "code",
      "metadata": {
        "id": "cwiiJPvVhznx",
        "colab_type": "code",
        "colab": {
          "base_uri": "https://localhost:8080/",
          "height": 185
        },
        "outputId": "bb0d684a-249a-40bb-86c9-cb4f094bb721"
      },
      "source": [
        "cleaned_words[:10]"
      ],
      "execution_count": 54,
      "outputs": [
        {
          "output_type": "execute_result",
          "data": {
            "text/plain": [
              "['data',\n",
              " 'analysis',\n",
              " 'nothing',\n",
              " 'telling',\n",
              " 'story',\n",
              " 'data',\n",
              " 'going',\n",
              " 'extract',\n",
              " 'useful',\n",
              " 'information']"
            ]
          },
          "metadata": {
            "tags": []
          },
          "execution_count": 54
        }
      ]
    },
    {
      "cell_type": "code",
      "metadata": {
        "id": "wklCGxaZbegd",
        "colab_type": "code",
        "colab": {
          "base_uri": "https://localhost:8080/",
          "height": 34
        },
        "outputId": "a928e75f-3f3a-4221-e3c3-1c54633dce3d"
      },
      "source": [
        "len(cleaned_words)"
      ],
      "execution_count": 55,
      "outputs": [
        {
          "output_type": "execute_result",
          "data": {
            "text/plain": [
              "359"
            ]
          },
          "metadata": {
            "tags": []
          },
          "execution_count": 55
        }
      ]
    },
    {
      "cell_type": "code",
      "metadata": {
        "id": "-G39UgT-h2_J",
        "colab_type": "code",
        "colab": {}
      },
      "source": [
        "word_count = {}\n",
        "\n",
        "for w in cleaned_words:\n",
        "  if w not in word_count.keys():\n",
        "    word_count[w] = 1\n",
        "  else:\n",
        "    word_count[w] += 1"
      ],
      "execution_count": 56,
      "outputs": []
    },
    {
      "cell_type": "code",
      "metadata": {
        "id": "OOWXjkKhiSED",
        "colab_type": "code",
        "colab": {
          "base_uri": "https://localhost:8080/",
          "height": 185
        },
        "outputId": "99878184-80a6-42ea-ac6f-983765a421e4"
      },
      "source": [
        "collections.Counter(word_count).most_common(10)"
      ],
      "execution_count": 57,
      "outputs": [
        {
          "output_type": "execute_result",
          "data": {
            "text/plain": [
              "[('placed', 17),\n",
              " ('candidates', 13),\n",
              " ('data', 12),\n",
              " ('percentage', 8),\n",
              " ('one', 8),\n",
              " ('get', 8),\n",
              " ('lets', 8),\n",
              " ('placements', 7),\n",
              " ('see', 6),\n",
              " ('placement', 5)]"
            ]
          },
          "metadata": {
            "tags": []
          },
          "execution_count": 57
        }
      ]
    },
    {
      "cell_type": "code",
      "metadata": {
        "id": "rFlbd4ZEkmP-",
        "colab_type": "code",
        "colab": {}
      },
      "source": [
        "import heapq\n",
        "\n",
        "top = heapq.nlargest(20, word_count, key=word_count.get)"
      ],
      "execution_count": 58,
      "outputs": []
    },
    {
      "cell_type": "code",
      "metadata": {
        "id": "k48tkxETiSJl",
        "colab_type": "code",
        "colab": {}
      },
      "source": [
        "top_counts = []\n",
        "for u in top:\n",
        "  top_counts.append(word_count[u])"
      ],
      "execution_count": 59,
      "outputs": []
    },
    {
      "cell_type": "code",
      "metadata": {
        "id": "Gf8U7ff8iSHB",
        "colab_type": "code",
        "colab": {
          "base_uri": "https://localhost:8080/",
          "height": 34
        },
        "outputId": "fd319fd4-80f8-4a66-93a1-8693f99d04ee"
      },
      "source": [
        "top_counts"
      ],
      "execution_count": 60,
      "outputs": [
        {
          "output_type": "execute_result",
          "data": {
            "text/plain": [
              "[17, 13, 12, 8, 8, 8, 8, 7, 6, 5, 5, 5, 5, 5, 4, 4, 4, 4, 3, 3]"
            ]
          },
          "metadata": {
            "tags": []
          },
          "execution_count": 60
        }
      ]
    },
    {
      "cell_type": "code",
      "metadata": {
        "id": "gx6CK5CL6KUv",
        "colab_type": "code",
        "colab": {}
      },
      "source": [
        "import matplotlib.pyplot as plt\n"
      ],
      "execution_count": 45,
      "outputs": []
    },
    {
      "cell_type": "code",
      "metadata": {
        "id": "qwbtAAt-stsu",
        "colab_type": "code",
        "colab": {
          "base_uri": "https://localhost:8080/",
          "height": 483
        },
        "outputId": "d4f23b84-5eab-48f5-ea91-157a912bb01a"
      },
      "source": [
        "plt.figure(figsize=(24,8))\n",
        "plt.bar(top, top_counts)\n",
        "plt.show()"
      ],
      "execution_count": 61,
      "outputs": [
        {
          "output_type": "display_data",
          "data": {
            "image/png": "[encoded data removed]",
            "text/plain": [
              "<Figure size 1728x576 with 1 Axes>"
            ]
          },
          "metadata": {
            "tags": [],
            "needs_background": "light"
          }
        }
      ]
    }
  ]
}